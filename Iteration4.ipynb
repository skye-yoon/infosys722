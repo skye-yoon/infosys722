{
 "cells": [
  {
   "cell_type": "markdown",
   "id": "2ddce64c",
   "metadata": {},
   "source": [
    "## Itertation 4 BDAS\n",
    "\n",
    "Eunju Yoon, 200520416, eyoo699@aucklanduni.ac.nz"
   ]
  },
  {
   "cell_type": "markdown",
   "id": "fe46ced5",
   "metadata": {},
   "source": [
    "### 01-BU\n",
    "\n",
    "#### The objectives of the situation\n",
    "\n",
    "• Analysis of climate change trends\n",
    "    Analyze historical climate data to identify trends and patterns in temperature, sea level rise, and other relevant environmental indicators.\n",
    "    Understanding these trends can help assess the magnitude and direction of climate change.\n",
    "\n",
    "    \n",
    "• Prediction of risks by climate change\n",
    "    Develop predictive models to forecast future climate change risks and their potential impacts on cities in New Zealand.\n",
    "    This includes predicting the likelihood of extreme events, identifying regions at higher risk, and estimating potential damage."
   ]
  },
  {
   "cell_type": "code",
   "execution_count": 2,
   "id": "654293bd",
   "metadata": {},
   "outputs": [],
   "source": [
    "import findspark\n",
    "findspark.init('/home/ubuntu/spark-3.2.1-bin-hadoop2.7')\n",
    "import pyspark\n",
    "from pyspark.sql import SparkSession\n",
    "spark = SparkSession.builder.appName('basics').getOrCreate()\n",
    "from pyspark.ml.linalg import Vectors\n",
    "from pyspark.sql.types import StructType, StructField, DoubleType, IntegerType\n",
    "from pyspark.sql.functions import corr\n",
    "from pyspark.ml import Pipeline\n",
    "from pyspark.ml.tuning import TrainValidationSplit, ParamGridBuilder, CrossValidator\n",
    "from pyspark.ml.regression import LinearRegression, RandomForestRegressor\n",
    "from pyspark.ml.evaluation import RegressionEvaluator"
   ]
  },
  {
   "cell_type": "code",
   "execution_count": 3,
   "id": "486daedc",
   "metadata": {},
   "outputs": [],
   "source": [
    "import numpy as np\n",
    "import matplotlib.pyplot as plt\n",
    "%matplotlib inline"
   ]
  },
  {
   "cell_type": "markdown",
   "id": "e4890574",
   "metadata": {},
   "source": [
    "### 02-DU\n",
    "\n",
    "#### Explore data"
   ]
  },
  {
   "cell_type": "code",
   "execution_count": 4,
   "id": "89853a62",
   "metadata": {},
   "outputs": [],
   "source": [
    "# Collect initial data\n",
    "glacier_ice_volumes_data = spark.read.csv('dataset/annual-glacier-ice-volumes-1978-2020.csv', header = True, inferSchema = True)\n",
    "sea_level_data = spark.read.csv('dataset/annual-mean-sea-level-relative-to-land-19002013.csv', header = True, inferSchema = True)\n",
    "temperature_anomalies_data = spark.read.csv('dataset/global-and-new-zealand-temperature-anomalies-19092016.csv', header = True, inferSchema = True)\n",
    "nz_temperature_data = spark.read.csv('dataset/new-zealands-national-temperature-19092016.csv', header = True, inferSchema = True)\n",
    "sea_surface_temperature_data = spark.read.csv('dataset/oceanic-sea-surface-temperature-19932016.csv', header = True, inferSchema = True)\n",
    "rainfall_intensity_data = spark.read.csv('dataset/rainfall-intensity-19602016.csv', header = True, inferSchema = True)"
   ]
  },
  {
   "cell_type": "code",
   "execution_count": 5,
   "id": "73f30144",
   "metadata": {},
   "outputs": [
    {
     "name": "stdout",
     "output_type": "stream",
     "text": [
      "root\n",
      " |-- field_1: integer (nullable = true)\n",
      " |-- year: integer (nullable = true)\n",
      " |-- ice_volume: double (nullable = true)\n",
      " |-- unit: string (nullable = true)\n",
      "\n"
     ]
    }
   ],
   "source": [
    "# Explore Data\n",
    "glacier_ice_volumes_data.printSchema()"
   ]
  },
  {
   "cell_type": "code",
   "execution_count": 11,
   "id": "b1cc46cf",
   "metadata": {},
   "outputs": [
    {
     "name": "stdout",
     "output_type": "stream",
     "text": [
      "+-------+----+----------+----+\n",
      "|field_1|year|ice_volume|unit|\n",
      "+-------+----+----------+----+\n",
      "|      1|1978|     53.29|km^3|\n",
      "|      2|1979|     52.31|km^3|\n",
      "|      3|1980|     52.31|km^3|\n",
      "|      4|1981|     52.52|km^3|\n",
      "|      5|1982|     52.13|km^3|\n",
      "|      6|1983|     52.93|km^3|\n",
      "|      7|1984|      53.6|km^3|\n",
      "|      8|1985|     54.09|km^3|\n",
      "|      9|1986|     54.12|km^3|\n",
      "|     10|1987|     54.28|km^3|\n",
      "|     11|1988|     54.03|km^3|\n",
      "|     12|1989|     53.88|km^3|\n",
      "|     13|1990|     52.01|km^3|\n",
      "|     14|1991|     52.23|km^3|\n",
      "|     15|1992|     52.96|km^3|\n",
      "|     16|1993|      53.8|km^3|\n",
      "|     17|1994|     54.21|km^3|\n",
      "|     18|1995|     55.22|km^3|\n",
      "|     19|1996|     55.39|km^3|\n",
      "|     20|1997|     56.21|km^3|\n",
      "+-------+----+----------+----+\n",
      "only showing top 20 rows\n",
      "\n"
     ]
    }
   ],
   "source": [
    "# Annual glacier ice volumes\n",
    "glacier_ice_volumes_data.show()"
   ]
  },
  {
   "cell_type": "code",
   "execution_count": 12,
   "id": "7fb2d9bb",
   "metadata": {},
   "outputs": [
    {
     "data": {
      "image/png": "[encoded data removed]",
      "text/plain": [
       "<Figure size 432x288 with 1 Axes>"
      ]
     },
     "metadata": {
      "needs_background": "light"
     },
     "output_type": "display_data"
    }
   ],
   "source": [
    "# Visualization for Annual glacier ice volumes\n",
    "plot_data = glacier_ice_volumes_data.select('year','ice_volume').sample(False, 0.8).toPandas()\n",
    "plt.plot(plot_data.year, plot_data.ice_volume)\n",
    "plt.xlabel('Year')\n",
    "plt.ylabel('Glacier ice volume')\n",
    "plt.title('Annual glacier ice volumes')\n",
    "plt.show()"
   ]
  },
  {
   "cell_type": "code",
   "execution_count": 13,
   "id": "3b3cde34",
   "metadata": {},
   "outputs": [
    {
     "name": "stdout",
     "output_type": "stream",
     "text": [
      "root\n",
      " |-- year: integer (nullable = true)\n",
      " |-- tide_gauge: string (nullable = true)\n",
      " |-- mean_sea_level_metres: double (nullable = true)\n",
      "\n"
     ]
    }
   ],
   "source": [
    "# Annual sea level (relative to land)\n",
    "sea_level_data.printSchema()"
   ]
  },
  {
   "cell_type": "code",
   "execution_count": 14,
   "id": "80a8c410",
   "metadata": {},
   "outputs": [
    {
     "name": "stdout",
     "output_type": "stream",
     "text": [
      "+----+------------+---------------------+\n",
      "|year|  tide_gauge|mean_sea_level_metres|\n",
      "+----+------------+---------------------+\n",
      "|1899|Auckland_MSL|                1.866|\n",
      "|1900|Auckland_MSL|                1.863|\n",
      "|1901|Auckland_MSL|                1.823|\n",
      "|1902|Auckland_MSL|                  0.0|\n",
      "|1903|Auckland_MSL|                 1.88|\n",
      "|1904|Auckland_MSL|                1.864|\n",
      "|1905|Auckland_MSL|                1.843|\n",
      "|1906|Auckland_MSL|                1.826|\n",
      "|1907|Auckland_MSL|                1.882|\n",
      "|1908|Auckland_MSL|                 1.92|\n",
      "|1909|Auckland_MSL|                1.901|\n",
      "|1910|Auckland_MSL|                1.928|\n",
      "|1911|Auckland_MSL|                1.948|\n",
      "|1912|Auckland_MSL|                1.903|\n",
      "|1913|Auckland_MSL|                1.873|\n",
      "|1914|Auckland_MSL|                1.833|\n",
      "|1915|Auckland_MSL|                1.875|\n",
      "|1916|Auckland_MSL|                1.928|\n",
      "|1917|Auckland_MSL|                1.923|\n",
      "|1918|Auckland_MSL|                1.905|\n",
      "+----+------------+---------------------+\n",
      "only showing top 20 rows\n",
      "\n"
     ]
    }
   ],
   "source": [
    "sea_level_data.show()"
   ]
  },
  {
   "cell_type": "code",
   "execution_count": 15,
   "id": "be312a9a",
   "metadata": {},
   "outputs": [
    {
     "data": {
      "image/png": "[encoded data removed]",
      "text/plain": [
       "<Figure size 432x288 with 1 Axes>"
      ]
     },
     "metadata": {
      "needs_background": "light"
     },
     "output_type": "display_data"
    }
   ],
   "source": [
    "# Visualization for Annual mean sea level relative to Auckaland\n",
    "plot_data = sea_level_data.filter('tide_gauge == \"Auckland_MSL\"').filter('mean_sea_level_metres > 0').select('year','mean_sea_level_metres').sample(False, 0.8).toPandas()\n",
    "plt.plot(plot_data.year, plot_data.mean_sea_level_metres)\n",
    "plt.xlabel(\"Year\")\n",
    "plt.ylabel(\"Mean sea level (meters)\")\n",
    "plt.title(\"Annual mean sea level relative to Auckalnd\")\n",
    "plt.show()"
   ]
  },
  {
   "cell_type": "code",
   "execution_count": 22,
   "id": "7925394e",
   "metadata": {},
   "outputs": [
    {
     "data": {
      "image/png": "[encoded data removed]",
      "text/plain": [
       "<Figure size 432x288 with 1 Axes>"
      ]
     },
     "metadata": {
      "needs_background": "light"
     },
     "output_type": "display_data"
    }
   ],
   "source": [
    "# Visualization for Annual mean sea level relative to Wellingtion\n",
    "plot_data = sea_level_data.filter('tide_gauge == \"Wellington\"').filter('mean_sea_level_metres > 0').select('year','mean_sea_level_metres').sample(False, 0.8).toPandas()\n",
    "plt.scatter(plot_data.year, plot_data.mean_sea_level_metres)\n",
    "plt.xlabel(\"Year\")\n",
    "plt.ylabel(\"Mean sea level (meters)\")\n",
    "plt.title(\"Annual mean sea level relative to Wellington\")\n",
    "plt.show()"
   ]
  },
  {
   "cell_type": "code",
   "execution_count": 23,
   "id": "21302c6b",
   "metadata": {},
   "outputs": [
    {
     "name": "stdout",
     "output_type": "stream",
     "text": [
      "root\n",
      " |-- Dataset: string (nullable = true)\n",
      " |-- Spatial_coverage: string (nullable = true)\n",
      " |-- Statistic: string (nullable = true)\n",
      " |-- Start_year: integer (nullable = true)\n",
      " |-- End_year: integer (nullable = true)\n",
      " |-- Temperature_degrees_celcius: double (nullable = true)\n",
      " |-- field_7: string (nullable = true)\n",
      "\n"
     ]
    }
   ],
   "source": [
    "# Global and New Zealand’s temperature anomalies (1900-2020)\n",
    "temperature_anomalies_data.printSchema()"
   ]
  },
  {
   "cell_type": "code",
   "execution_count": 24,
   "id": "74544a24",
   "metadata": {},
   "outputs": [
    {
     "name": "stdout",
     "output_type": "stream",
     "text": [
      "+--------------------+----------------+--------------------+----------+--------+---------------------------+-------+\n",
      "|             Dataset|Spatial_coverage|           Statistic|Start_year|End_year|Temperature_degrees_celcius|field_7|\n",
      "+--------------------+----------------+--------------------+----------+--------+---------------------------+-------+\n",
      "|NZ_7_station_temp...|     New_Zealand|Average_temperatu...|      1909|    1909|                      -0.22|   null|\n",
      "|NZ_7_station_temp...|     New_Zealand|Average_temperatu...|      1910|    1910|                      -0.15|   null|\n",
      "|NZ_7_station_temp...|     New_Zealand|Average_temperatu...|      1911|    1911|                      -0.66|   null|\n",
      "|NZ_7_station_temp...|     New_Zealand|Average_temperatu...|      1912|    1912|                      -1.28|   null|\n",
      "|NZ_7_station_temp...|     New_Zealand|Average_temperatu...|      1913|    1913|                      -1.04|   null|\n",
      "|NZ_7_station_temp...|     New_Zealand|Average_temperatu...|      1914|    1914|                      -1.03|   null|\n",
      "|NZ_7_station_temp...|     New_Zealand|Average_temperatu...|      1915|    1915|                      -0.67|   null|\n",
      "|NZ_7_station_temp...|     New_Zealand|Average_temperatu...|      1916|    1916|                       0.38|   null|\n",
      "|NZ_7_station_temp...|     New_Zealand|Average_temperatu...|      1917|    1917|                       0.19|   null|\n",
      "|NZ_7_station_temp...|     New_Zealand|Average_temperatu...|      1918|    1918|                       -0.8|   null|\n",
      "|NZ_7_station_temp...|     New_Zealand|Average_temperatu...|      1919|    1919|                      -1.22|   null|\n",
      "|NZ_7_station_temp...|     New_Zealand|Average_temperatu...|      1920|    1920|                      -1.07|   null|\n",
      "|NZ_7_station_temp...|     New_Zealand|Average_temperatu...|      1921|    1921|                      -0.75|   null|\n",
      "|NZ_7_station_temp...|     New_Zealand|Average_temperatu...|      1922|    1922|                       -0.6|   null|\n",
      "|NZ_7_station_temp...|     New_Zealand|Average_temperatu...|      1923|    1923|                      -0.76|   null|\n",
      "|NZ_7_station_temp...|     New_Zealand|Average_temperatu...|      1924|    1924|                        0.2|   null|\n",
      "|NZ_7_station_temp...|     New_Zealand|Average_temperatu...|      1925|    1925|                      -1.02|   null|\n",
      "|NZ_7_station_temp...|     New_Zealand|Average_temperatu...|      1926|    1926|                      -0.83|   null|\n",
      "|NZ_7_station_temp...|     New_Zealand|Average_temperatu...|      1927|    1927|                      -0.99|   null|\n",
      "|NZ_7_station_temp...|     New_Zealand|Average_temperatu...|      1928|    1928|                       0.09|   null|\n",
      "+--------------------+----------------+--------------------+----------+--------+---------------------------+-------+\n",
      "only showing top 20 rows\n",
      "\n"
     ]
    }
   ],
   "source": [
    "temperature_anomalies_data.show()"
   ]
  },
  {
   "cell_type": "code",
   "execution_count": 25,
   "id": "c1158ff3",
   "metadata": {},
   "outputs": [
    {
     "data": {
      "image/png": "[encoded data removed]",
      "text/plain": [
       "<Figure size 432x288 with 1 Axes>"
      ]
     },
     "metadata": {
      "needs_background": "light"
     },
     "output_type": "display_data"
    }
   ],
   "source": [
    "# Visualization for New Zealand’s temperature anomalies (1900-2020)\n",
    "plot_data = temperature_anomalies_data.filter('Dataset == \"NZ_7_station_temperature_time_series\"').filter('Statistic == \"Average_temperature_anomaly\"').select('End_year','Temperature_degrees_celcius').sample(False, 0.8).toPandas()\n",
    "plt.plot(plot_data.End_year, plot_data.Temperature_degrees_celcius)\n",
    "plt.xlabel(\"Year\")\n",
    "plt.ylabel(\"Average temperature anomaly\")\n",
    "plt.title(\"Annual temperature anomalies in New Zealand\")\n",
    "plt.show()"
   ]
  },
  {
   "cell_type": "code",
   "execution_count": 26,
   "id": "0662e2ba",
   "metadata": {},
   "outputs": [
    {
     "data": {
      "image/png": "[encoded data removed]",
      "text/plain": [
       "<Figure size 432x288 with 1 Axes>"
      ]
     },
     "metadata": {
      "needs_background": "light"
     },
     "output_type": "display_data"
    }
   ],
   "source": [
    "# Visualization for Global temperature anomalies (1900-2020)\n",
    "plot_data_CRUTEM4 = temperature_anomalies_data.filter('Dataset == \"Climatic_Research_Unit_(CRUTEM4)\"').filter('Statistic == \"Average_temperature_anomaly\"').select('End_year','Temperature_degrees_celcius').sample(False, 0.8).toPandas()\n",
    "plt.plot(plot_data_CRUTEM4.End_year, plot_data_CRUTEM4.Temperature_degrees_celcius, color = 'orange', label = 'CRUTEM4')\n",
    "\n",
    "plot_data_NOAA = temperature_anomalies_data.filter('Dataset == \"National_Oceanic_and_Atmospheric_Administration_(NOAA)\"').filter('Statistic == \"Average_temperature_anomaly\"').select('End_year','Temperature_degrees_celcius').sample(False, 0.8).toPandas()\n",
    "plt.plot(plot_data_NOAA.End_year, plot_data_NOAA.Temperature_degrees_celcius, color = 'red', label = 'NOAA')\n",
    "\n",
    "plot_data_NASA = temperature_anomalies_data.filter('Dataset == \"National_Aeronautics_and_Space_Administration_(NASA)\"').filter('Statistic == \"Average_temperature_anomaly\"').select('End_year','Temperature_degrees_celcius').sample(False, 0.8).toPandas()\n",
    "plt.plot(plot_data_NASA.End_year, plot_data_NASA.Temperature_degrees_celcius, color = 'blue', label = 'NASA')\n",
    "\n",
    "plt.xlabel(\"Year\")\n",
    "plt.ylabel(\"Annual temperature anomalies\")\n",
    "plt.title(\"Global annual temperature anomalies\")\n",
    "plt.legend()\n",
    "plt.show()"
   ]
  },
  {
   "cell_type": "code",
   "execution_count": 27,
   "id": "48207bc0",
   "metadata": {},
   "outputs": [
    {
     "name": "stdout",
     "output_type": "stream",
     "text": [
      "root\n",
      " |-- Year: integer (nullable = true)\n",
      " |-- Statistic: string (nullable = true)\n",
      " |-- Temperature_degrees_celcius: double (nullable = true)\n",
      "\n"
     ]
    }
   ],
   "source": [
    "# New Zealand's national temperature (1909–2016)\n",
    "nz_temperature_data.printSchema()"
   ]
  },
  {
   "cell_type": "code",
   "execution_count": 28,
   "id": "f2f8c0f0",
   "metadata": {},
   "outputs": [
    {
     "name": "stdout",
     "output_type": "stream",
     "text": [
      "+----+--------------------+---------------------------+\n",
      "|Year|           Statistic|Temperature_degrees_celcius|\n",
      "+----+--------------------+---------------------------+\n",
      "|1909|National_average_...|                      12.39|\n",
      "|1910|National_average_...|                      12.46|\n",
      "|1911|National_average_...|                      11.95|\n",
      "|1912|National_average_...|                      11.33|\n",
      "|1913|National_average_...|                      11.57|\n",
      "|1914|National_average_...|                      11.58|\n",
      "|1915|National_average_...|                      11.94|\n",
      "|1916|National_average_...|                      12.99|\n",
      "|1917|National_average_...|                       12.8|\n",
      "|1918|National_average_...|                      11.81|\n",
      "|1919|National_average_...|                      11.39|\n",
      "|1920|National_average_...|                      11.54|\n",
      "|1921|National_average_...|                      11.86|\n",
      "|1922|National_average_...|                      12.01|\n",
      "|1923|National_average_...|                      11.85|\n",
      "|1924|National_average_...|                      12.81|\n",
      "|1925|National_average_...|                      11.59|\n",
      "|1926|National_average_...|                      11.78|\n",
      "|1927|National_average_...|                      11.62|\n",
      "|1928|National_average_...|                       12.7|\n",
      "+----+--------------------+---------------------------+\n",
      "only showing top 20 rows\n",
      "\n"
     ]
    }
   ],
   "source": [
    "nz_temperature_data.show()"
   ]
  },
  {
   "cell_type": "code",
   "execution_count": 33,
   "id": "aab0c497",
   "metadata": {},
   "outputs": [
    {
     "data": {
      "image/png": "[encoded data removed]",
      "text/plain": [
       "<Figure size 432x288 with 1 Axes>"
      ]
     },
     "metadata": {
      "needs_background": "light"
     },
     "output_type": "display_data"
    }
   ],
   "source": [
    "# Visualization for New Zealand's national temperature (1909–2016)\n",
    "plot_data = nz_temperature_data.filter('Statistic == \"National_average_temperature\"').select('Year','Temperature_degrees_celcius').sample(False, 0.8).toPandas()\n",
    "plt.plot(plot_data.Year, plot_data.Temperature_degrees_celcius)\n",
    "plt.xlabel(\"Year\")\n",
    "plt.ylabel(\"Annual temperature\")\n",
    "plt.title(\"Annual temperature in New Zealand\")\n",
    "plt.show()"
   ]
  },
  {
   "cell_type": "code",
   "execution_count": 36,
   "id": "42492775",
   "metadata": {},
   "outputs": [
    {
     "data": {
      "image/png": "[encoded data removed]",
      "text/plain": [
       "<Figure size 432x288 with 1 Axes>"
      ]
     },
     "metadata": {
      "needs_background": "light"
     },
     "output_type": "display_data"
    }
   ],
   "source": [
    "# Visualization for New Zealand's national temperature (1909–2016)\n",
    "plot_data = nz_temperature_data.filter('Statistic == \"Five-year_running_average_temperature\"').select('Year','Temperature_degrees_celcius').sample(False, 0.8).toPandas()\n",
    "plt.plot(plot_data.Year, plot_data.Temperature_degrees_celcius)\n",
    "plt.xlabel(\"Year\")\n",
    "plt.ylabel(\"Average temperature\")\n",
    "plt.title(\"Five-year running average temperature in New Zealand\")\n",
    "plt.show()"
   ]
  },
  {
   "cell_type": "code",
   "execution_count": 37,
   "id": "2dfb2e2d",
   "metadata": {},
   "outputs": [
    {
     "name": "stdout",
     "output_type": "stream",
     "text": [
      "root\n",
      " |-- Year: integer (nullable = true)\n",
      " |-- Area: string (nullable = true)\n",
      " |-- Variable: string (nullable = true)\n",
      " |-- Statistic: string (nullable = true)\n",
      " |-- Value: double (nullable = true)\n",
      "\n"
     ]
    }
   ],
   "source": [
    "# Sea surface mean temperature in New Zealand (1993-2016)\n",
    "sea_surface_temperature_data.printSchema()"
   ]
  },
  {
   "cell_type": "code",
   "execution_count": 38,
   "id": "5c76e6b6",
   "metadata": {},
   "outputs": [
    {
     "name": "stdout",
     "output_type": "stream",
     "text": [
      "+----+--------------------+--------------------+---------+-------+\n",
      "|Year|                Area|            Variable|Statistic|  Value|\n",
      "+----+--------------------+--------------------+---------+-------+\n",
      "|1993|New_Zealand_ocean...|Oceanic_sea_surfa...|     Mean|14.3612|\n",
      "|1994|New_Zealand_ocean...|Oceanic_sea_surfa...|     Mean|14.4678|\n",
      "|1995|New_Zealand_ocean...|Oceanic_sea_surfa...|     Mean|14.5782|\n",
      "|1996|New_Zealand_ocean...|Oceanic_sea_surfa...|     Mean| 14.649|\n",
      "|1997|New_Zealand_ocean...|Oceanic_sea_surfa...|     Mean|14.4728|\n",
      "|1998|New_Zealand_ocean...|Oceanic_sea_surfa...|     Mean| 14.632|\n",
      "|1999|New_Zealand_ocean...|Oceanic_sea_surfa...|     Mean|15.0981|\n",
      "|2000|New_Zealand_ocean...|Oceanic_sea_surfa...|     Mean|14.8112|\n",
      "|2001|New_Zealand_ocean...|Oceanic_sea_surfa...|     Mean|14.8066|\n",
      "|2002|New_Zealand_ocean...|Oceanic_sea_surfa...|     Mean|14.8327|\n",
      "|2003|New_Zealand_ocean...|Oceanic_sea_surfa...|     Mean|14.7494|\n",
      "|2004|New_Zealand_ocean...|Oceanic_sea_surfa...|     Mean|14.5186|\n",
      "|2005|New_Zealand_ocean...|Oceanic_sea_surfa...|     Mean|14.7422|\n",
      "|2006|New_Zealand_ocean...|Oceanic_sea_surfa...|     Mean|14.6198|\n",
      "|2007|New_Zealand_ocean...|Oceanic_sea_surfa...|     Mean|14.5462|\n",
      "|2008|New_Zealand_ocean...|Oceanic_sea_surfa...|     Mean|14.5632|\n",
      "|2009|New_Zealand_ocean...|Oceanic_sea_surfa...|     Mean|14.5427|\n",
      "|2010|New_Zealand_ocean...|Oceanic_sea_surfa...|     Mean|14.7388|\n",
      "|2011|New_Zealand_ocean...|Oceanic_sea_surfa...|     Mean|14.4536|\n",
      "|2012|New_Zealand_ocean...|Oceanic_sea_surfa...|     Mean|14.7561|\n",
      "+----+--------------------+--------------------+---------+-------+\n",
      "only showing top 20 rows\n",
      "\n"
     ]
    }
   ],
   "source": [
    "sea_surface_temperature_data.show()"
   ]
  },
  {
   "cell_type": "code",
   "execution_count": 23,
   "id": "aefe1cd5",
   "metadata": {},
   "outputs": [
    {
     "data": {
      "image/png": "[encoded data removed]",
      "text/plain": [
       "<Figure size 432x288 with 1 Axes>"
      ]
     },
     "metadata": {
      "needs_background": "light"
     },
     "output_type": "display_data"
    }
   ],
   "source": [
    "# Visualization for Sea surface mean temperature in New Zealand (1993-2016)\n",
    "plot_data = sea_surface_temperature_data.filter('Area == \"New_Zealand_oceanic_waters\"').filter('Variable == \"Oceanic_sea_surface_temperature\"').filter('Statistic == \"Mean\"').select('Year','Value').sample(False, 0.8).toPandas()\n",
    "\n",
    "plt.plot(plot_data.Year, plot_data.Value)\n",
    "plt.xlabel(\"Year\")\n",
    "plt.ylabel(\"Sea surface temperature\")\n",
    "plt.title(\"Annual mean sea surface temperature in New Zealand\")\n",
    "plt.show()"
   ]
  },
  {
   "cell_type": "code",
   "execution_count": 24,
   "id": "ead04d17",
   "metadata": {},
   "outputs": [
    {
     "data": {
      "image/png": "[encoded data removed]",
      "text/plain": [
       "<Figure size 432x288 with 1 Axes>"
      ]
     },
     "metadata": {
      "needs_background": "light"
     },
     "output_type": "display_data"
    }
   ],
   "source": [
    "# Visualization for Sea surface stasndard deviation temperature in New Zealand (1993-2016)\n",
    "plot_data = sea_surface_temperature_data.filter('Area == \"New_Zealand_oceanic_waters\"').filter('Variable == \"Oceanic_sea_surface_temperature\"').filter('Statistic == \"Standard_Deviation\"').select('Year','Value').sample(False, 0.8).toPandas()\n",
    "\n",
    "plt.plot(plot_data.Year, plot_data.Value)\n",
    "plt.xlabel(\"Year\")\n",
    "plt.ylabel(\"Sea surface temperature\")\n",
    "plt.title(\"Annual standard deviation sea surface temperature in New Zealand\")\n",
    "plt.show()"
   ]
  },
  {
   "cell_type": "code",
   "execution_count": 25,
   "id": "eb24f4d8",
   "metadata": {},
   "outputs": [
    {
     "data": {
      "image/png": "[encoded data removed]",
      "text/plain": [
       "<Figure size 432x288 with 1 Axes>"
      ]
     },
     "metadata": {
      "needs_background": "light"
     },
     "output_type": "display_data"
    }
   ],
   "source": [
    "# Visualization for Sea surface minimum temperature in New Zealand (1993-2016)\n",
    "plot_data = sea_surface_temperature_data.filter('Area == \"New_Zealand_oceanic_waters\"').filter('Variable == \"Oceanic_sea_surface_temperature\"').filter('Statistic == \"Minimum\"').select('Year','Value').sample(False, 0.8).toPandas()\n",
    "\n",
    "plt.plot(plot_data.Year, plot_data.Value)\n",
    "plt.xlabel(\"Year\")\n",
    "plt.ylabel(\"Sea surface temperature\")\n",
    "plt.title(\"Annual minimum sea surface temperature in New Zealand\")\n",
    "plt.show()"
   ]
  },
  {
   "cell_type": "code",
   "execution_count": 26,
   "id": "f2e2d844",
   "metadata": {},
   "outputs": [
    {
     "data": {
      "image/png": "[encoded data removed]",
      "text/plain": [
       "<Figure size 432x288 with 1 Axes>"
      ]
     },
     "metadata": {
      "needs_background": "light"
     },
     "output_type": "display_data"
    }
   ],
   "source": [
    "# Visualization for Sea surface maximum temperature in New Zealand (1993-2016)\n",
    "plot_data = sea_surface_temperature_data.filter('Area == \"New_Zealand_oceanic_waters\"').filter('Variable == \"Oceanic_sea_surface_temperature\"').filter('Statistic == \"Maximum\"').select('Year','Value').sample(False, 0.8).toPandas()\n",
    "\n",
    "plt.plot(plot_data.Year, plot_data.Value)\n",
    "plt.xlabel(\"Year\")\n",
    "plt.ylabel(\"Sea surface temperature\")\n",
    "plt.title(\"Annual maximum sea surface temperature in New Zealand\")\n",
    "plt.show()"
   ]
  },
  {
   "cell_type": "code",
   "execution_count": 39,
   "id": "0ab814ae",
   "metadata": {},
   "outputs": [
    {
     "name": "stdout",
     "output_type": "stream",
     "text": [
      "root\n",
      " |-- Year: integer (nullable = true)\n",
      " |-- site: string (nullable = true)\n",
      " |-- r95ptot: double (nullable = true)\n",
      " |-- rx1day: double (nullable = true)\n",
      "\n"
     ]
    }
   ],
   "source": [
    "# Rainfall intensity\n",
    "rainfall_intensity_data.printSchema()"
   ]
  },
  {
   "cell_type": "code",
   "execution_count": 40,
   "id": "10ff5012",
   "metadata": {},
   "outputs": [
    {
     "name": "stdout",
     "output_type": "stream",
     "text": [
      "+----+--------+-----------+------+\n",
      "|Year|    site|    r95ptot|rx1day|\n",
      "+----+--------+-----------+------+\n",
      "|1960|Auckland|        0.0|   0.0|\n",
      "|1961|Auckland|        0.0|   0.0|\n",
      "|1962|Auckland|        0.0|   0.0|\n",
      "|1963|Auckland|34.24417406|  56.4|\n",
      "|1964|Auckland|31.89158016|  44.7|\n",
      "|1965|Auckland|33.39581615|  70.4|\n",
      "|1966|Auckland|31.24754034|  66.5|\n",
      "|1967|Auckland|37.46610796| 139.4|\n",
      "|1968|Auckland|19.86384634|  58.4|\n",
      "|1969|Auckland| 26.7946185|  58.9|\n",
      "|1970|Auckland| 32.9884955|  80.3|\n",
      "|1971|Auckland|27.30793479|  64.7|\n",
      "|1972|Auckland|27.95676998|  68.5|\n",
      "|1973|Auckland|16.12903226|  65.1|\n",
      "|1974|Auckland|23.75152253|  38.0|\n",
      "|1975|Auckland|21.20684919|  88.8|\n",
      "|1976|Auckland|35.94574228|  97.0|\n",
      "|1977|Auckland| 17.5311305|  71.0|\n",
      "|1978|Auckland|20.92925026|  56.0|\n",
      "|1979|Auckland|39.40422067|  87.6|\n",
      "+----+--------+-----------+------+\n",
      "only showing top 20 rows\n",
      "\n"
     ]
    }
   ],
   "source": [
    "rainfall_intensity_data.show()"
   ]
  },
  {
   "cell_type": "code",
   "execution_count": 29,
   "id": "2be1ad83",
   "metadata": {},
   "outputs": [
    {
     "data": {
      "image/png": "[encoded data removed]",
      "text/plain": [
       "<Figure size 432x288 with 1 Axes>"
      ]
     },
     "metadata": {
      "needs_background": "light"
     },
     "output_type": "display_data"
    }
   ],
   "source": [
    "# Visualization for Rainfall intensity in Auckland\n",
    "plot_data = rainfall_intensity_data.filter('site == \"Auckland\"').select('Year','r95ptot', 'rx1day').sample(False, 0.8).toPandas()\n",
    "\n",
    "plt.plot(plot_data.Year, plot_data.r95ptot, color = 'green', label = \"Percent\")\n",
    "plt.plot(plot_data.Year, plot_data.rx1day, color = 'orange', label = \"mm\")\n",
    "plt.xlabel(\"Year\")\n",
    "plt.ylabel(\"Rainfall intensity\")\n",
    "plt.title(\"Rainfall intensity in Auckland\")\n",
    "plt.legend()\n",
    "plt.show()"
   ]
  },
  {
   "cell_type": "markdown",
   "id": "37d70749",
   "metadata": {},
   "source": [
    "#### Data quality"
   ]
  },
  {
   "cell_type": "code",
   "execution_count": 30,
   "id": "cb648cc9",
   "metadata": {},
   "outputs": [
    {
     "name": "stdout",
     "output_type": "stream",
     "text": [
      "+-------+------------------+------------------+------------------+----+\n",
      "|summary|           field_1|              year|        ice_volume|unit|\n",
      "+-------+------------------+------------------+------------------+----+\n",
      "|  count|                43|                43|                43|  43|\n",
      "|   mean|              22.0|            1999.0|49.838837209302305|null|\n",
      "| stddev|12.556538801224908|12.556538801224908| 5.537926468282717|null|\n",
      "|    min|                 1|              1978|              34.6|km^3|\n",
      "|    max|                43|              2020|             56.21|km^3|\n",
      "+-------+------------------+------------------+------------------+----+\n",
      "\n"
     ]
    }
   ],
   "source": [
    "# Annual glacier ice volumes\n",
    "glacier_ice_volumes_data.describe().show()"
   ]
  },
  {
   "cell_type": "code",
   "execution_count": 31,
   "id": "7bf5e8e0",
   "metadata": {},
   "outputs": [
    {
     "name": "stdout",
     "output_type": "stream",
     "text": [
      "+-------+----+----------+----+\n",
      "|field_1|year|ice_volume|unit|\n",
      "+-------+----+----------+----+\n",
      "+-------+----+----------+----+\n",
      "\n"
     ]
    }
   ],
   "source": [
    "glacier_ice_volumes_data.filter('ice_volume == 0').select('*').show()"
   ]
  },
  {
   "cell_type": "code",
   "execution_count": 32,
   "id": "3f9cfdad",
   "metadata": {},
   "outputs": [
    {
     "name": "stdout",
     "output_type": "stream",
     "text": [
      "+-------+-----------------+------------+---------------------+\n",
      "|summary|             year|  tide_gauge|mean_sea_level_metres|\n",
      "+-------+-----------------+------------+---------------------+\n",
      "|  count|              575|         575|                  575|\n",
      "|   mean|           1956.0|        null|   1.0499895652173907|\n",
      "| stddev|33.22528947394124|        null|   0.6729432854231862|\n",
      "|    min|             1899|Auckland_MSL|                  0.0|\n",
      "|    max|             2013|  Wellington|                2.088|\n",
      "+-------+-----------------+------------+---------------------+\n",
      "\n"
     ]
    }
   ],
   "source": [
    "# Annual sea level (relative to land)\n",
    "sea_level_data.describe().show()"
   ]
  },
  {
   "cell_type": "code",
   "execution_count": 33,
   "id": "85eef619",
   "metadata": {},
   "outputs": [
    {
     "name": "stdout",
     "output_type": "stream",
     "text": [
      "+----+------------+---------------------+\n",
      "|year|  tide_gauge|mean_sea_level_metres|\n",
      "+----+------------+---------------------+\n",
      "|1902|Auckland_MSL|                  0.0|\n",
      "|1946|Auckland_MSL|                  0.0|\n",
      "|1904| Dunedin_MSL|                  0.0|\n",
      "|1916| Dunedin_MSL|                  0.0|\n",
      "|1917| Dunedin_MSL|                  0.0|\n",
      "|1920| Dunedin_MSL|                  0.0|\n",
      "|1922| Dunedin_MSL|                  0.0|\n",
      "|1928| Dunedin_MSL|                  0.0|\n",
      "|1930| Dunedin_MSL|                  0.0|\n",
      "|1931| Dunedin_MSL|                  0.0|\n",
      "|1933| Dunedin_MSL|                  0.0|\n",
      "|1934| Dunedin_MSL|                  0.0|\n",
      "|1943| Dunedin_MSL|                  0.0|\n",
      "|1953| Dunedin_MSL|                  0.0|\n",
      "|1981| Dunedin_MSL|                  0.0|\n",
      "|1982| Dunedin_MSL|                  0.0|\n",
      "|1991| Dunedin_MSL|                  0.0|\n",
      "|1992| Dunedin_MSL|                  0.0|\n",
      "|1993| Dunedin_MSL|                  0.0|\n",
      "|1994| Dunedin_MSL|                  0.0|\n",
      "+----+------------+---------------------+\n",
      "only showing top 20 rows\n",
      "\n",
      "The number of missing values:  97\n"
     ]
    }
   ],
   "source": [
    "missing_data_in_sea_level_data = sea_level_data.filter('mean_sea_level_metres == 0').select('*')\n",
    "missing_data_in_sea_level_data.show()\n",
    "print(\"The number of missing values: \", missing_data_in_sea_level_data.count())"
   ]
  },
  {
   "cell_type": "code",
   "execution_count": 8,
   "id": "04305f9b",
   "metadata": {},
   "outputs": [
    {
     "name": "stdout",
     "output_type": "stream",
     "text": [
      "+-------+--------------------+----------------+--------------------+------------------+------------------+---------------------------+-------+\n",
      "|summary|             Dataset|Spatial_coverage|           Statistic|        Start_year|          End_year|Temperature_degrees_celcius|field_7|\n",
      "+-------+--------------------+----------------+--------------------+------------------+------------------+---------------------------+-------+\n",
      "|  count|                 848|             848|                 848|               848|               848|                        848|      0|\n",
      "|   mean|                null|            null|                null|1961.5188679245282|1963.4811320754718|       -0.35431227712264174|   null|\n",
      "| stddev|                null|            null|                null|30.648937612208254|30.648937612208318|        0.38472487245810844|   null|\n",
      "|    min|Climatic_Research...|          Global|Average_temperatu...|              1909|              1909|                      -1.36|   null|\n",
      "|    max|National_Oceanic_...|     New_Zealand|Five_year_running...|              2016|              2016|                       0.83|   null|\n",
      "+-------+--------------------+----------------+--------------------+------------------+------------------+---------------------------+-------+\n",
      "\n"
     ]
    }
   ],
   "source": [
    "# Global and New Zealand temperature anomalies\n",
    "temperature_anomalies_data.describe().show()"
   ]
  },
  {
   "cell_type": "code",
   "execution_count": 9,
   "id": "ce479e98",
   "metadata": {},
   "outputs": [
    {
     "name": "stdout",
     "output_type": "stream",
     "text": [
      "+--------------------+----------------+--------------------+----------+--------+---------------------------+-------+\n",
      "|             Dataset|Spatial_coverage|           Statistic|Start_year|End_year|Temperature_degrees_celcius|field_7|\n",
      "+--------------------+----------------+--------------------+----------+--------+---------------------------+-------+\n",
      "|NZ_7_station_temp...|     New_Zealand|Average_temperatu...|      1975|    1975|                        0.0|   null|\n",
      "+--------------------+----------------+--------------------+----------+--------+---------------------------+-------+\n",
      "\n",
      "The number of missing values:  1\n"
     ]
    }
   ],
   "source": [
    "missing_data_in_temperature_anomalies_data = temperature_anomalies_data.filter('Dataset == \"NZ_7_station_temperature_time_series\"').filter('Statistic == \"Average_temperature_anomaly\"').filter('Temperature_degrees_celcius == 0').select('*')\n",
    "missing_data_in_temperature_anomalies_data.show()\n",
    "print(\"The number of missing values: \", missing_data_in_temperature_anomalies_data.count())"
   ]
  },
  {
   "cell_type": "code",
   "execution_count": 10,
   "id": "b8af876a",
   "metadata": {},
   "outputs": [
    {
     "name": "stdout",
     "output_type": "stream",
     "text": [
      "+-------+-----------------+--------------------+---------------------------+\n",
      "|summary|             Year|           Statistic|Temperature_degrees_celcius|\n",
      "+-------+-----------------+--------------------+---------------------------+\n",
      "|  count|              424|                 424|                        424|\n",
      "|   mean|           1962.5|                null|          5.993183962264144|\n",
      "| stddev|30.65070506595527|                null|           6.32730833267697|\n",
      "|    min|             1909|Five-year_running...|                      -1.36|\n",
      "|    max|             2016|National_average_...|                      13.44|\n",
      "+-------+-----------------+--------------------+---------------------------+\n",
      "\n"
     ]
    }
   ],
   "source": [
    "# New Zealand's national temperature\n",
    "nz_temperature_data.describe().show()"
   ]
  },
  {
   "cell_type": "code",
   "execution_count": 11,
   "id": "ef18c7e5",
   "metadata": {},
   "outputs": [
    {
     "name": "stdout",
     "output_type": "stream",
     "text": [
      "+----+---------+---------------------------+\n",
      "|Year|Statistic|Temperature_degrees_celcius|\n",
      "+----+---------+---------------------------+\n",
      "+----+---------+---------------------------+\n",
      "\n"
     ]
    }
   ],
   "source": [
    "missing_data_in_nz_temperature_data = nz_temperature_data.filter('Statistic == \"National_average_temperature\"').filter('Temperature_degrees_celcius == 0').select('*')\n",
    "missing_data_in_nz_temperature_data.show()"
   ]
  },
  {
   "cell_type": "code",
   "execution_count": 12,
   "id": "ffbc3365",
   "metadata": {},
   "outputs": [
    {
     "name": "stdout",
     "output_type": "stream",
     "text": [
      "+-------+-----------------+--------------------+--------------------+------------------+------------------+\n",
      "|summary|             Year|                Area|            Variable|         Statistic|             Value|\n",
      "+-------+-----------------+--------------------+--------------------+------------------+------------------+\n",
      "|  count|              960|                 960|                 960|               960|               960|\n",
      "|   mean|           2004.5|                null|                null|              null| 525637.5100354946|\n",
      "| stddev|6.925794677019939|                null|                null|              null|1442978.8746969604|\n",
      "|    min|             1993|New_Zealand_ocean...|Oceanic_sea_surfa...|           Maximum|          -9.72997|\n",
      "|    max|             2016|          Tasman_Sea|Oceanic_sea_surfa...|Standard_Deviation|         6451441.0|\n",
      "+-------+-----------------+--------------------+--------------------+------------------+------------------+\n",
      "\n"
     ]
    }
   ],
   "source": [
    "# Oceanic sea surface temperature\n",
    "sea_surface_temperature_data.describe().show()"
   ]
  },
  {
   "cell_type": "code",
   "execution_count": 39,
   "id": "ad202f36",
   "metadata": {},
   "outputs": [
    {
     "name": "stdout",
     "output_type": "stream",
     "text": [
      "+----+----+--------+---------+-----+\n",
      "|Year|Area|Variable|Statistic|Value|\n",
      "+----+----+--------+---------+-----+\n",
      "+----+----+--------+---------+-----+\n",
      "\n"
     ]
    }
   ],
   "source": [
    "missing_data_in_sea_surface_temperature_data = sea_surface_temperature_data.filter('Area == \"New_Zealand_oceanic_waters\"').filter('Variable == \"Oceanic_sea_surface_temperature\"').filter('Statistic == \"Mean\"').filter('Value == 0').select('*')\n",
    "missing_data_in_sea_surface_temperature_data.show()"
   ]
  },
  {
   "cell_type": "code",
   "execution_count": 13,
   "id": "23886d2f",
   "metadata": {},
   "outputs": [
    {
     "name": "stdout",
     "output_type": "stream",
     "text": [
      "+-------+------------------+---------+------------------+-----------------+\n",
      "|summary|              Year|     site|           r95ptot|           rx1day|\n",
      "+-------+------------------+---------+------------------+-----------------+\n",
      "|  count|              1710|     1710|              1710|             1710|\n",
      "|   mean|            1988.0|     null|21.915701822702342|67.27411646198829|\n",
      "| stddev|16.456762861672175|     null|11.099378108277325|54.25926910966994|\n",
      "|    min|              1960|    0pier|               0.0|              0.0|\n",
      "|    max|              2016|Whangarei|       54.01682311|            537.5|\n",
      "+-------+------------------+---------+------------------+-----------------+\n",
      "\n"
     ]
    }
   ],
   "source": [
    "# Rainfall Intensity\n",
    "rainfall_intensity_data.describe().show()"
   ]
  },
  {
   "cell_type": "code",
   "execution_count": 14,
   "id": "331e38b6",
   "metadata": {},
   "outputs": [
    {
     "name": "stdout",
     "output_type": "stream",
     "text": [
      "+----+--------+-------+------+\n",
      "|Year|    site|r95ptot|rx1day|\n",
      "+----+--------+-------+------+\n",
      "|1960|Auckland|    0.0|   0.0|\n",
      "|1961|Auckland|    0.0|   0.0|\n",
      "|1962|Auckland|    0.0|   0.0|\n",
      "+----+--------+-------+------+\n",
      "\n",
      "The number of missing values:  3\n"
     ]
    }
   ],
   "source": [
    "missing_data_in_rainfall_intensity_data = rainfall_intensity_data.filter('site == \"Auckland\"').filter('r95ptot == 0').filter('rx1day == 0').select('*')\n",
    "missing_data_in_rainfall_intensity_data.show()\n",
    "print(\"The number of missing values: \", missing_data_in_rainfall_intensity_data.count())"
   ]
  },
  {
   "cell_type": "markdown",
   "id": "9b82a18e",
   "metadata": {},
   "source": [
    "### 03-DP\n",
    "#### Select data (rows & columns)"
   ]
  },
  {
   "cell_type": "code",
   "execution_count": 7,
   "id": "1349373e",
   "metadata": {},
   "outputs": [
    {
     "name": "stdout",
     "output_type": "stream",
     "text": [
      "+-------+------------------+------------------+\n",
      "|summary|              year|        ice_volume|\n",
      "+-------+------------------+------------------+\n",
      "|  count|                21|                21|\n",
      "|   mean|            2003.0| 50.94238095238095|\n",
      "| stddev|6.2048368229954285|3.6954443640270167|\n",
      "|    min|              1993|             43.57|\n",
      "|    max|              2013|             56.21|\n",
      "+-------+------------------+------------------+\n",
      "\n"
     ]
    }
   ],
   "source": [
    "glacier_ice = glacier_ice_volumes_data.filter('year >= 1993').filter('year <= 2013').select('year', 'ice_volume')\n",
    "glacier_ice.describe().show()"
   ]
  },
  {
   "cell_type": "code",
   "execution_count": 8,
   "id": "8970e83e",
   "metadata": {},
   "outputs": [
    {
     "name": "stdout",
     "output_type": "stream",
     "text": [
      "+-------+------------------+---------------------+\n",
      "|summary|              year|mean_sea_level_metres|\n",
      "+-------+------------------+---------------------+\n",
      "|  count|                21|                   21|\n",
      "|   mean|            2003.0|    2.029761904761905|\n",
      "| stddev|6.2048368229954285|   0.0416940100756749|\n",
      "|    min|              1993|                1.944|\n",
      "|    max|              2013|                2.088|\n",
      "+-------+------------------+---------------------+\n",
      "\n"
     ]
    }
   ],
   "source": [
    "auckland_sea_level = sea_level_data.filter('year >= 1993').filter('year <= 2013').filter('tide_gauge == \"Auckland_MSL\"').select('year', 'mean_sea_level_metres')\n",
    "auckland_sea_level.describe().show()"
   ]
  },
  {
   "cell_type": "code",
   "execution_count": 9,
   "id": "d2e4cfae",
   "metadata": {},
   "outputs": [
    {
     "name": "stdout",
     "output_type": "stream",
     "text": [
      "+-------+------------------+---------------------------+\n",
      "|summary|          End_year|Temperature_degrees_celcius|\n",
      "+-------+------------------+---------------------------+\n",
      "|  count|                21|                         21|\n",
      "|   mean|            2003.0|        0.07666666666666669|\n",
      "| stddev|6.2048368229954285|        0.41519071922832446|\n",
      "|    min|              1993|                      -0.77|\n",
      "|    max|              2013|                        0.8|\n",
      "+-------+------------------+---------------------------+\n",
      "\n"
     ]
    }
   ],
   "source": [
    "avg_temperature_anomalies = temperature_anomalies_data.filter('End_year >= 1993').filter('End_year <= 2013').filter('Dataset == \"NZ_7_station_temperature_time_series\"').filter('Statistic == \"Average_temperature_anomaly\"').select('End_year', 'Temperature_degrees_celcius')\n",
    "avg_temperature_anomalies.describe().show()"
   ]
  },
  {
   "cell_type": "code",
   "execution_count": 10,
   "id": "d1c5a076",
   "metadata": {},
   "outputs": [
    {
     "name": "stdout",
     "output_type": "stream",
     "text": [
      "+-------+------------------+---------------------------+\n",
      "|summary|              Year|Temperature_degrees_celcius|\n",
      "+-------+------------------+---------------------------+\n",
      "|  count|                21|                         21|\n",
      "|   mean|            2003.0|         12.685714285714285|\n",
      "| stddev|6.2048368229954285|        0.41596359730836335|\n",
      "|    min|              1993|                      11.84|\n",
      "|    max|              2013|                      13.41|\n",
      "+-------+------------------+---------------------------+\n",
      "\n"
     ]
    }
   ],
   "source": [
    "avg_temperature = nz_temperature_data.filter('Year >= 1993').filter('Year <= 2013').filter('Statistic == \"National_average_temperature\"').select('Year', 'Temperature_degrees_celcius')\n",
    "avg_temperature.describe().show()"
   ]
  },
  {
   "cell_type": "code",
   "execution_count": 11,
   "id": "9efb3219",
   "metadata": {},
   "outputs": [
    {
     "name": "stdout",
     "output_type": "stream",
     "text": [
      "+-------+------------------+------------------+\n",
      "|summary|              Year|             Value|\n",
      "+-------+------------------+------------------+\n",
      "|  count|                21|                21|\n",
      "|   mean|            2003.0|           14.6637|\n",
      "| stddev|6.2048368229954285|0.1842655420853289|\n",
      "|    min|              1993|           14.3612|\n",
      "|    max|              2013|           15.0981|\n",
      "+-------+------------------+------------------+\n",
      "\n"
     ]
    }
   ],
   "source": [
    "avg_sea_surface_temperature = sea_surface_temperature_data.filter('Year >= 1993').filter('Year <= 2013').filter('Area == \"New_Zealand_oceanic_waters\"').filter('Statistic == \"Mean\"').select('Year', 'Value')\n",
    "avg_sea_surface_temperature.describe().show()"
   ]
  },
  {
   "cell_type": "code",
   "execution_count": 12,
   "id": "343e6ba4",
   "metadata": {},
   "outputs": [
    {
     "name": "stdout",
     "output_type": "stream",
     "text": [
      "+-------+------------------+------------------+------------------+\n",
      "|summary|              Year|           r95ptot|            rx1day|\n",
      "+-------+------------------+------------------+------------------+\n",
      "|  count|                21|                21|                21|\n",
      "|   mean|            2003.0|24.144083753952383| 59.37142857142856|\n",
      "| stddev|6.2048368229954285| 7.120506044203708|13.379280356474437|\n",
      "|    min|              1993|       8.549147973|              35.0|\n",
      "|    max|              2013|       37.82564401|              84.8|\n",
      "+-------+------------------+------------------+------------------+\n",
      "\n"
     ]
    }
   ],
   "source": [
    "auckland_rainfall = rainfall_intensity_data.filter('Year >= 1993').filter('Year <= 2013').filter('site == \"Auckland\"').select('Year', 'r95ptot', 'rx1day')\n",
    "auckland_rainfall.describe().show()"
   ]
  },
  {
   "cell_type": "markdown",
   "id": "d1e0cf5a",
   "metadata": {},
   "source": [
    "#### Clean data"
   ]
  },
  {
   "cell_type": "code",
   "execution_count": 12,
   "id": "c1b2f59d",
   "metadata": {},
   "outputs": [
    {
     "name": "stdout",
     "output_type": "stream",
     "text": [
      "+----+----------+\n",
      "|year|ice_volume|\n",
      "+----+----------+\n",
      "|1993|      53.8|\n",
      "|1994|     54.21|\n",
      "|1995|     55.22|\n",
      "|1996|     55.39|\n",
      "|1997|     56.21|\n",
      "|1998|     55.36|\n",
      "|1999|     53.04|\n",
      "|2000|     51.04|\n",
      "|2001|     51.61|\n",
      "|2002|      50.1|\n",
      "|2003|     50.69|\n",
      "|2004|     51.25|\n",
      "|2005|     52.02|\n",
      "|2006|     51.25|\n",
      "|2007|     51.07|\n",
      "|2008|     49.35|\n",
      "|2009|     47.98|\n",
      "|2010|     47.78|\n",
      "|2011|     45.24|\n",
      "|2012|     43.57|\n",
      "|2013|     43.61|\n",
      "+----+----------+\n",
      "\n"
     ]
    }
   ],
   "source": [
    "glacier_ice.show(30)"
   ]
  },
  {
   "cell_type": "code",
   "execution_count": 14,
   "id": "f953e418",
   "metadata": {},
   "outputs": [
    {
     "name": "stdout",
     "output_type": "stream",
     "text": [
      "+----+---------------------+\n",
      "|year|mean_sea_level_metres|\n",
      "+----+---------------------+\n",
      "|1993|                1.946|\n",
      "|1994|                1.944|\n",
      "|1995|                1.997|\n",
      "|1996|                2.008|\n",
      "|1997|                1.978|\n",
      "|1998|                1.987|\n",
      "|1999|                2.065|\n",
      "|2000|                2.065|\n",
      "|2001|                2.088|\n",
      "|2002|                2.042|\n",
      "|2003|                 2.06|\n",
      "|2004|                2.026|\n",
      "|2005|                2.048|\n",
      "|2006|                2.034|\n",
      "|2007|                2.014|\n",
      "|2008|                2.054|\n",
      "|2009|                2.048|\n",
      "|2010|                2.008|\n",
      "|2011|                2.069|\n",
      "|2012|                 2.06|\n",
      "|2013|                2.084|\n",
      "+----+---------------------+\n",
      "\n"
     ]
    }
   ],
   "source": [
    "auckland_sea_level.show(30)"
   ]
  },
  {
   "cell_type": "code",
   "execution_count": 15,
   "id": "4411c678",
   "metadata": {},
   "outputs": [
    {
     "name": "stdout",
     "output_type": "stream",
     "text": [
      "+--------+---------------------------+\n",
      "|End_year|Temperature_degrees_celcius|\n",
      "+--------+---------------------------+\n",
      "|    1993|                      -0.77|\n",
      "|    1994|                      -0.28|\n",
      "|    1995|                      -0.02|\n",
      "|    1996|                      -0.16|\n",
      "|    1997|                      -0.33|\n",
      "|    1998|                        0.8|\n",
      "|    1999|                       0.74|\n",
      "|    2000|                       0.18|\n",
      "|    2001|                       0.29|\n",
      "|    2002|                       0.06|\n",
      "|    2003|                       0.01|\n",
      "|    2004|                      -0.44|\n",
      "|    2005|                        0.5|\n",
      "|    2006|                      -0.21|\n",
      "|    2007|                       0.06|\n",
      "|    2008|                       0.25|\n",
      "|    2009|                      -0.32|\n",
      "|    2010|                       0.46|\n",
      "|    2011|                       0.22|\n",
      "|    2012|                      -0.15|\n",
      "|    2013|                       0.72|\n",
      "+--------+---------------------------+\n",
      "\n"
     ]
    }
   ],
   "source": [
    "avg_temperature_anomalies.show(30)"
   ]
  },
  {
   "cell_type": "code",
   "execution_count": 16,
   "id": "6947f2e0",
   "metadata": {},
   "outputs": [
    {
     "name": "stdout",
     "output_type": "stream",
     "text": [
      "+----+---------------------------+\n",
      "|Year|Temperature_degrees_celcius|\n",
      "+----+---------------------------+\n",
      "|1993|                      11.84|\n",
      "|1994|                      12.33|\n",
      "|1995|                      12.59|\n",
      "|1996|                      12.45|\n",
      "|1997|                      12.27|\n",
      "|1998|                      13.41|\n",
      "|1999|                      13.35|\n",
      "|2000|                      12.79|\n",
      "|2001|                       12.9|\n",
      "|2002|                      12.67|\n",
      "|2003|                      12.62|\n",
      "|2004|                      12.17|\n",
      "|2005|                      13.11|\n",
      "|2006|                       12.4|\n",
      "|2007|                      12.67|\n",
      "|2008|                      12.86|\n",
      "|2009|                      12.29|\n",
      "|2010|                      13.07|\n",
      "|2011|                      12.83|\n",
      "|2012|                      12.45|\n",
      "|2013|                      13.33|\n",
      "+----+---------------------------+\n",
      "\n"
     ]
    }
   ],
   "source": [
    "avg_temperature.show(30)"
   ]
  },
  {
   "cell_type": "code",
   "execution_count": 17,
   "id": "dfed298f",
   "metadata": {},
   "outputs": [
    {
     "name": "stdout",
     "output_type": "stream",
     "text": [
      "+----+-------+\n",
      "|Year|  Value|\n",
      "+----+-------+\n",
      "|1993|14.3612|\n",
      "|1994|14.4678|\n",
      "|1995|14.5782|\n",
      "|1996| 14.649|\n",
      "|1997|14.4728|\n",
      "|1998| 14.632|\n",
      "|1999|15.0981|\n",
      "|2000|14.8112|\n",
      "|2001|14.8066|\n",
      "|2002|14.8327|\n",
      "|2003|14.7494|\n",
      "|2004|14.5186|\n",
      "|2005|14.7422|\n",
      "|2006|14.6198|\n",
      "|2007|14.5462|\n",
      "|2008|14.5632|\n",
      "|2009|14.5427|\n",
      "|2010|14.7388|\n",
      "|2011|14.4536|\n",
      "|2012|14.7561|\n",
      "|2013|14.9975|\n",
      "+----+-------+\n",
      "\n"
     ]
    }
   ],
   "source": [
    "avg_sea_surface_temperature.show(30)"
   ]
  },
  {
   "cell_type": "code",
   "execution_count": 18,
   "id": "0e76086c",
   "metadata": {},
   "outputs": [
    {
     "name": "stdout",
     "output_type": "stream",
     "text": [
      "+----+-----------+------+\n",
      "|Year|    r95ptot|rx1day|\n",
      "+----+-----------+------+\n",
      "|1993|25.68454962|  63.0|\n",
      "|1994|8.549147973|  56.0|\n",
      "|1995|23.35995436|  59.0|\n",
      "|1996|26.20614035|  66.4|\n",
      "|1997|28.62198168|  81.0|\n",
      "|1998|35.39457127|  71.6|\n",
      "|1999|33.58778626|  63.2|\n",
      "|2000|30.63345754|  64.4|\n",
      "|2001|28.94609034|  57.0|\n",
      "|2002|20.53121365|  49.8|\n",
      "|2003|19.32166697|  62.8|\n",
      "|2004|26.60550459|  84.8|\n",
      "|2005|16.98033411|  35.0|\n",
      "|2006|21.73673582|  72.4|\n",
      "|2007|20.89655172|  57.6|\n",
      "|2008|22.43024302|  57.8|\n",
      "|2009|13.39597902|  50.4|\n",
      "|2010| 17.5716118|  38.8|\n",
      "|2011|37.82564401|  72.6|\n",
      "|2012|23.02504817|  44.2|\n",
      "|2013|25.72154656|  39.0|\n",
      "+----+-----------+------+\n",
      "\n"
     ]
    }
   ],
   "source": [
    "auckland_rainfall.show(30)"
   ]
  },
  {
   "cell_type": "code",
   "execution_count": 14,
   "id": "2e816583",
   "metadata": {},
   "outputs": [
    {
     "name": "stdout",
     "output_type": "stream",
     "text": [
      "+----+---------------------+\n",
      "|year|mean_sea_level_metres|\n",
      "+----+---------------------+\n",
      "+----+---------------------+\n",
      "\n"
     ]
    }
   ],
   "source": [
    "auckland_sea_level.filter('mean_sea_level_metres == 0').show()"
   ]
  },
  {
   "cell_type": "code",
   "execution_count": null,
   "id": "f3a45cc1",
   "metadata": {},
   "outputs": [],
   "source": [
    "# handle missing values using an imputation based on linear regression\n",
    "prepro_sea_level_data = sea_level_data[(sea_level_data.tide_gauge == 'Auckland_MSL')]\n",
    "prepro_sea_level_data[(prepro_sea_level_data.mean_sea_level_metres == 0)].count()\n",
    "prepro_sea_level_data\n",
    "\n",
    "prepro_sea_level_data = prepro_sea_level_data.replace(0, np.nan)\n",
    "imputer = IterativeImputer(estimator=LinearRegression())\n",
    "prepro_sea_level_data[['mean_sea_level_metres', 'year']] = imputer.fit_transform(prepro_sea_level_data[['mean_sea_level_metres', 'year']])\n",
    "prepro_sea_level_data"
   ]
  },
  {
   "cell_type": "markdown",
   "id": "b4f530e9",
   "metadata": {},
   "source": [
    "#### Construct data"
   ]
  },
  {
   "cell_type": "code",
   "execution_count": 13,
   "id": "ef37c559",
   "metadata": {},
   "outputs": [],
   "source": [
    "avg_temperature_anomalies = avg_temperature_anomalies.withColumn(\"year\", avg_temperature_anomalies.End_year)"
   ]
  },
  {
   "cell_type": "code",
   "execution_count": 14,
   "id": "3980de9c",
   "metadata": {},
   "outputs": [
    {
     "name": "stdout",
     "output_type": "stream",
     "text": [
      "+--------+---------------------------+----+\n",
      "|End_year|Temperature_degrees_celcius|year|\n",
      "+--------+---------------------------+----+\n",
      "|    1993|                      -0.77|1993|\n",
      "|    1994|                      -0.28|1994|\n",
      "|    1995|                      -0.02|1995|\n",
      "|    1996|                      -0.16|1996|\n",
      "|    1997|                      -0.33|1997|\n",
      "|    1998|                        0.8|1998|\n",
      "|    1999|                       0.74|1999|\n",
      "|    2000|                       0.18|2000|\n",
      "|    2001|                       0.29|2001|\n",
      "|    2002|                       0.06|2002|\n",
      "|    2003|                       0.01|2003|\n",
      "|    2004|                      -0.44|2004|\n",
      "|    2005|                        0.5|2005|\n",
      "|    2006|                      -0.21|2006|\n",
      "|    2007|                       0.06|2007|\n",
      "|    2008|                       0.25|2008|\n",
      "|    2009|                      -0.32|2009|\n",
      "|    2010|                       0.46|2010|\n",
      "|    2011|                       0.22|2011|\n",
      "|    2012|                      -0.15|2012|\n",
      "|    2013|                       0.72|2013|\n",
      "+--------+---------------------------+----+\n",
      "\n"
     ]
    }
   ],
   "source": [
    "avg_temperature_anomalies.show(30)"
   ]
  },
  {
   "cell_type": "code",
   "execution_count": 15,
   "id": "7baf6742",
   "metadata": {},
   "outputs": [],
   "source": [
    "avg_temperature_anomalies = avg_temperature_anomalies.drop('End_year')"
   ]
  },
  {
   "cell_type": "code",
   "execution_count": 16,
   "id": "307eed16",
   "metadata": {},
   "outputs": [
    {
     "name": "stdout",
     "output_type": "stream",
     "text": [
      "+---------------------------+----+\n",
      "|Temperature_degrees_celcius|year|\n",
      "+---------------------------+----+\n",
      "|                      -0.77|1993|\n",
      "|                      -0.28|1994|\n",
      "|                      -0.02|1995|\n",
      "|                      -0.16|1996|\n",
      "|                      -0.33|1997|\n",
      "|                        0.8|1998|\n",
      "|                       0.74|1999|\n",
      "|                       0.18|2000|\n",
      "|                       0.29|2001|\n",
      "|                       0.06|2002|\n",
      "|                       0.01|2003|\n",
      "|                      -0.44|2004|\n",
      "|                        0.5|2005|\n",
      "|                      -0.21|2006|\n",
      "|                       0.06|2007|\n",
      "|                       0.25|2008|\n",
      "|                      -0.32|2009|\n",
      "|                       0.46|2010|\n",
      "|                       0.22|2011|\n",
      "|                      -0.15|2012|\n",
      "|                       0.72|2013|\n",
      "+---------------------------+----+\n",
      "\n"
     ]
    }
   ],
   "source": [
    "avg_temperature_anomalies.show(30)"
   ]
  },
  {
   "cell_type": "markdown",
   "id": "3c36b8db",
   "metadata": {},
   "source": [
    "#### Integrate data"
   ]
  },
  {
   "cell_type": "code",
   "execution_count": 62,
   "id": "c24b4d2e",
   "metadata": {},
   "outputs": [],
   "source": [
    "climate_data = glacier_ice"
   ]
  },
  {
   "cell_type": "code",
   "execution_count": 63,
   "id": "4d9f0a74",
   "metadata": {},
   "outputs": [],
   "source": [
    "climate_data = climate_data.join(avg_temperature_anomalies, on = 'year')\n",
    "climate_data = climate_data.withColumnRenamed('Temperature_degrees_celcius', 'temperature_anomalies')"
   ]
  },
  {
   "cell_type": "code",
   "execution_count": 64,
   "id": "4745f5e8",
   "metadata": {},
   "outputs": [],
   "source": [
    "climate_data = climate_data.join(auckland_rainfall, on = 'year')\n",
    "climate_data = climate_data.withColumnRenamed('r95ptot', 'rainfall_intensity_r95ptot')\n",
    "climate_data = climate_data.withColumnRenamed('rx1day', 'rainfall_intensity_rx1day')"
   ]
  },
  {
   "cell_type": "code",
   "execution_count": 65,
   "id": "d0cdc00d",
   "metadata": {},
   "outputs": [],
   "source": [
    "climate_data = climate_data.join(avg_temperature, on = 'year')\n",
    "climate_data = climate_data.withColumnRenamed('Temperature_degrees_celcius', 'temperature')"
   ]
  },
  {
   "cell_type": "code",
   "execution_count": 66,
   "id": "7e696639",
   "metadata": {},
   "outputs": [],
   "source": [
    "climate_data = climate_data.join(avg_sea_surface_temperature, on = 'year')\n",
    "climate_data = climate_data.withColumnRenamed('Value', 'sea_surface_temperature')"
   ]
  },
  {
   "cell_type": "code",
   "execution_count": 67,
   "id": "958e8961",
   "metadata": {},
   "outputs": [],
   "source": [
    "climate_data = climate_data.join(auckland_sea_level, on = 'year')"
   ]
  },
  {
   "cell_type": "code",
   "execution_count": 68,
   "id": "0bc41271",
   "metadata": {},
   "outputs": [
    {
     "name": "stdout",
     "output_type": "stream",
     "text": [
      "+----+----------+---------------------+--------------------------+-------------------------+-----------+-----------------------+---------------------+\n",
      "|year|ice_volume|temperature_anomalies|rainfall_intensity_r95ptot|rainfall_intensity_rx1day|temperature|sea_surface_temperature|mean_sea_level_metres|\n",
      "+----+----------+---------------------+--------------------------+-------------------------+-----------+-----------------------+---------------------+\n",
      "|1993|      53.8|                -0.77|               25.68454962|                     63.0|      11.84|                14.3612|                1.946|\n",
      "|1994|     54.21|                -0.28|               8.549147973|                     56.0|      12.33|                14.4678|                1.944|\n",
      "|1995|     55.22|                -0.02|               23.35995436|                     59.0|      12.59|                14.5782|                1.997|\n",
      "|1996|     55.39|                -0.16|               26.20614035|                     66.4|      12.45|                 14.649|                2.008|\n",
      "|1997|     56.21|                -0.33|               28.62198168|                     81.0|      12.27|                14.4728|                1.978|\n",
      "|1998|     55.36|                  0.8|               35.39457127|                     71.6|      13.41|                 14.632|                1.987|\n",
      "|1999|     53.04|                 0.74|               33.58778626|                     63.2|      13.35|                15.0981|                2.065|\n",
      "|2000|     51.04|                 0.18|               30.63345754|                     64.4|      12.79|                14.8112|                2.065|\n",
      "|2001|     51.61|                 0.29|               28.94609034|                     57.0|       12.9|                14.8066|                2.088|\n",
      "|2002|      50.1|                 0.06|               20.53121365|                     49.8|      12.67|                14.8327|                2.042|\n",
      "|2003|     50.69|                 0.01|               19.32166697|                     62.8|      12.62|                14.7494|                 2.06|\n",
      "|2004|     51.25|                -0.44|               26.60550459|                     84.8|      12.17|                14.5186|                2.026|\n",
      "|2005|     52.02|                  0.5|               16.98033411|                     35.0|      13.11|                14.7422|                2.048|\n",
      "|2006|     51.25|                -0.21|               21.73673582|                     72.4|       12.4|                14.6198|                2.034|\n",
      "|2007|     51.07|                 0.06|               20.89655172|                     57.6|      12.67|                14.5462|                2.014|\n",
      "|2008|     49.35|                 0.25|               22.43024302|                     57.8|      12.86|                14.5632|                2.054|\n",
      "|2009|     47.98|                -0.32|               13.39597902|                     50.4|      12.29|                14.5427|                2.048|\n",
      "|2010|     47.78|                 0.46|                17.5716118|                     38.8|      13.07|                14.7388|                2.008|\n",
      "|2011|     45.24|                 0.22|               37.82564401|                     72.6|      12.83|                14.4536|                2.069|\n",
      "|2012|     43.57|                -0.15|               23.02504817|                     44.2|      12.45|                14.7561|                 2.06|\n",
      "|2013|     43.61|                 0.72|               25.72154656|                     39.0|      13.33|                14.9975|                2.084|\n",
      "+----+----------+---------------------+--------------------------+-------------------------+-----------+-----------------------+---------------------+\n",
      "\n"
     ]
    }
   ],
   "source": [
    "climate_data.show(30)"
   ]
  },
  {
   "cell_type": "markdown",
   "id": "bda8ac57",
   "metadata": {},
   "source": [
    "#### Format data"
   ]
  },
  {
   "cell_type": "code",
   "execution_count": 69,
   "id": "b8c7381d",
   "metadata": {},
   "outputs": [],
   "source": [
    "climate_data = climate_data.withColumn('year', climate_data.year.cast('integer'))\n",
    "climate_data = climate_data.withColumn('ice_volume', climate_data.ice_volume.cast('double'))\n",
    "climate_data = climate_data.withColumn('temperature_anomalies', climate_data.temperature_anomalies.cast('double'))\n",
    "climate_data = climate_data.withColumn('rainfall_intensity_r95ptot', climate_data.rainfall_intensity_r95ptot.cast('double'))\n",
    "climate_data = climate_data.withColumn('rainfall_intensity_rx1day', climate_data.rainfall_intensity_rx1day.cast('double'))\n",
    "climate_data = climate_data.withColumn('temperature', climate_data.temperature.cast('double'))\n",
    "climate_data = climate_data.withColumn('sea_surface_temperature', climate_data.sea_surface_temperature.cast('double'))\n",
    "climate_data = climate_data.withColumn('mean_sea_level_metres', climate_data.mean_sea_level_metres.cast('double'))"
   ]
  },
  {
   "cell_type": "code",
   "execution_count": 70,
   "id": "094ec7c0",
   "metadata": {},
   "outputs": [
    {
     "name": "stdout",
     "output_type": "stream",
     "text": [
      "root\n",
      " |-- year: integer (nullable = true)\n",
      " |-- ice_volume: double (nullable = true)\n",
      " |-- temperature_anomalies: double (nullable = true)\n",
      " |-- rainfall_intensity_r95ptot: double (nullable = true)\n",
      " |-- rainfall_intensity_rx1day: double (nullable = true)\n",
      " |-- temperature: double (nullable = true)\n",
      " |-- sea_surface_temperature: double (nullable = true)\n",
      " |-- mean_sea_level_metres: double (nullable = true)\n",
      "\n"
     ]
    }
   ],
   "source": [
    "climate_data.printSchema()"
   ]
  },
  {
   "cell_type": "markdown",
   "id": "bdef3be3",
   "metadata": {},
   "source": [
    "### 04-DT"
   ]
  },
  {
   "cell_type": "code",
   "execution_count": 26,
   "id": "25e4ef69",
   "metadata": {},
   "outputs": [
    {
     "ename": "NameError",
     "evalue": "name 'RFormula' is not defined",
     "output_type": "error",
     "traceback": [
      "\u001b[0;31m---------------------------------------------------------------------------\u001b[0m",
      "\u001b[0;31mNameError\u001b[0m                                 Traceback (most recent call last)",
      "Input \u001b[0;32mIn [26]\u001b[0m, in \u001b[0;36m<cell line: 3>\u001b[0;34m()\u001b[0m\n\u001b[1;32m      1\u001b[0m \u001b[38;5;66;03m# data reduction\u001b[39;00m\n\u001b[1;32m      2\u001b[0m \u001b[38;5;28;01mfrom\u001b[39;00m \u001b[38;5;21;01mpyspark\u001b[39;00m\u001b[38;5;21;01m.\u001b[39;00m\u001b[38;5;21;01mml\u001b[39;00m\u001b[38;5;21;01m.\u001b[39;00m\u001b[38;5;21;01mfeature\u001b[39;00m \u001b[38;5;28;01mimport\u001b[39;00m PCA\n\u001b[0;32m----> 3\u001b[0m data \u001b[38;5;241m=\u001b[39m \u001b[43mRFormula\u001b[49m(formula\u001b[38;5;241m=\u001b[39m\u001b[38;5;124m\"\u001b[39m\u001b[38;5;124m ~ \u001b[39m\u001b[38;5;132;01m{0}\u001b[39;00m\u001b[38;5;124m\"\u001b[39m\u001b[38;5;241m.\u001b[39mformat(\u001b[38;5;124m\"\u001b[39m\u001b[38;5;124m + \u001b[39m\u001b[38;5;124m\"\u001b[39m\u001b[38;5;241m.\u001b[39mjoin(climate_data\u001b[38;5;241m.\u001b[39mcolumns)))\u001b[38;5;241m.\u001b[39mfit(climate_data)\u001b[38;5;241m.\u001b[39mtransform(climate_data)\n\u001b[1;32m      4\u001b[0m pca \u001b[38;5;241m=\u001b[39m PCA(inputCol \u001b[38;5;241m=\u001b[39m features, outputCol\u001b[38;5;241m=\u001b[39m\u001b[38;5;124m\"\u001b[39m\u001b[38;5;124mpcaFeatures\u001b[39m\u001b[38;5;124m\"\u001b[39m)\n\u001b[1;32m      5\u001b[0m model \u001b[38;5;241m=\u001b[39m pca\u001b[38;5;241m.\u001b[39mfit(climate_data)\n",
      "\u001b[0;31mNameError\u001b[0m: name 'RFormula' is not defined"
     ]
    }
   ],
   "source": [
    "# data reduction\n",
    "from pyspark.ml.feature import PCA\n",
    "data = RFormula(formula=\" ~ {0}\".format(\" + \".join(climate_data.columns))).fit(climate_data).transform(climate_data)\n",
    "pca = PCA(inputCol = features, outputCol=\"pcaFeatures\")\n",
    "model = pca.fit(climate_data)"
   ]
  },
  {
   "cell_type": "markdown",
   "id": "9cdb99ca",
   "metadata": {},
   "source": [
    "### 05-DMM"
   ]
  },
  {
   "cell_type": "code",
   "execution_count": 24,
   "id": "969e029e",
   "metadata": {},
   "outputs": [
    {
     "name": "stdout",
     "output_type": "stream",
     "text": [
      "ice_volume  &  year correlation:  -0.9059893536820063\n",
      "mean_sea_level_metres  &  year correlation:  0.6497760230153333\n",
      "mean_sea_level_metres  &  ice_volume correlation:  -0.6393480716425503\n",
      "temperature_anomalies  &  year correlation:  0.3041312163659816\n",
      "temperature_anomalies  &  ice_volume correlation:  -0.2083221715375538\n",
      "temperature_anomalies  &  mean_sea_level_metres correlation:  0.48571331326576284\n",
      "rainfall_intensity_r95ptot  &  year correlation:  -0.07418600279113635\n",
      "rainfall_intensity_r95ptot  &  ice_volume correlation:  0.05008897340739305\n",
      "rainfall_intensity_r95ptot  &  mean_sea_level_metres correlation:  0.25641947773953794\n",
      "rainfall_intensity_r95ptot  &  temperature_anomalies correlation:  0.33182324111078676\n",
      "rainfall_intensity_rx1day  &  year correlation:  -0.4159426547083509\n",
      "rainfall_intensity_rx1day  &  ice_volume correlation:  0.48174599296176784\n",
      "rainfall_intensity_rx1day  &  mean_sea_level_metres correlation:  -0.25931847668130825\n",
      "rainfall_intensity_rx1day  &  temperature_anomalies correlation:  -0.3644855298724105\n",
      "rainfall_intensity_rx1day  &  rainfall_intensity_r95ptot correlation:  0.5219788874524398\n",
      "temperature  &  year correlation:  0.30298495442652806\n",
      "temperature  &  ice_volume correlation:  -0.20725047785826084\n",
      "temperature  &  mean_sea_level_metres correlation:  0.4854313634840819\n",
      "temperature  &  temperature_anomalies correlation:  0.9999755354030448\n",
      "temperature  &  rainfall_intensity_r95ptot correlation:  0.33063968246803677\n",
      "temperature  &  rainfall_intensity_rx1day correlation:  -0.3643884262200423\n",
      "sea_surface_temperature  &  year correlation:  0.23790872885288963\n",
      "sea_surface_temperature  &  ice_volume correlation:  -0.28361585811340073\n",
      "sea_surface_temperature  &  mean_sea_level_metres correlation:  0.6508382277656403\n",
      "sea_surface_temperature  &  temperature_anomalies correlation:  0.6951004720880615\n",
      "sea_surface_temperature  &  rainfall_intensity_r95ptot correlation:  0.1612645048368826\n",
      "sea_surface_temperature  &  rainfall_intensity_rx1day correlation:  -0.43670035297529597\n",
      "sea_surface_temperature  &  temperature correlation:  0.6944514955876108\n"
     ]
    }
   ],
   "source": [
    "# correlation\n",
    "for col1 in climate_data.columns:\n",
    "    for col2 in climate_data.columns:\n",
    "        if(col1 == col2):\n",
    "            break\n",
    "        else:\n",
    "            print(col1, ' & ', col2, 'correlation: ', climate_data.corr(col1, col2))"
   ]
  },
  {
   "cell_type": "markdown",
   "id": "f77cd018",
   "metadata": {},
   "source": [
    "### 06-DMA\n",
    "#### explore models"
   ]
  },
  {
   "cell_type": "code",
   "execution_count": 26,
   "id": "9c96a77c",
   "metadata": {},
   "outputs": [],
   "source": [
    "def convertData(data):\n",
    "    return data.rdd.map(lambda r: [Vectors.dense(r[:-1]),r[-1]]).toDF(['features','label'])"
   ]
  },
  {
   "cell_type": "code",
   "execution_count": 27,
   "id": "0f81d65d",
   "metadata": {},
   "outputs": [],
   "source": [
    "def evaluate_regression_models(data, regressor):\n",
    "    # split time-series dataset into training and test dataset\n",
    "    train_data = convertData(data[data.year < 2008])\n",
    "    test_data = convertData(data[data.year >= 2008])\n",
    "    \n",
    "    model = regressor[1].fit(train_data)\n",
    "    prediction = model.transform(test_data)\n",
    "    \n",
    "    evaluator = RegressionEvaluator(labelCol = 'label', predictionCol = 'prediction', metricName = 'rmse')\n",
    "    rmse = evaluator.evaluate(prediction)\n",
    "    \n",
    "    print(regressor[0])\n",
    "    print(\"Root mean square error: \", rmse)"
   ]
  },
  {
   "cell_type": "code",
   "execution_count": 28,
   "id": "7ce29173",
   "metadata": {},
   "outputs": [
    {
     "name": "stderr",
     "output_type": "stream",
     "text": [
      "23/11/04 06:09:29 WARN Instrumentation: [4220ad5b] regParam is zero, which might cause numerical instability and overfitting.\n",
      "23/11/04 06:09:30 WARN InstanceBuilder$NativeBLAS: Failed to load implementation from:dev.ludovic.netlib.blas.JNIBLAS\n",
      "23/11/04 06:09:30 WARN InstanceBuilder$NativeBLAS: Failed to load implementation from:dev.ludovic.netlib.blas.ForeignLinkerBLAS\n",
      "23/11/04 06:09:30 WARN InstanceBuilder$NativeLAPACK: Failed to load implementation from:dev.ludovic.netlib.lapack.JNILAPACK\n"
     ]
    },
    {
     "name": "stdout",
     "output_type": "stream",
     "text": [
      "LinearRegression\n",
      "Root mean square error:  0.16639896787600128\n"
     ]
    },
    {
     "name": "stderr",
     "output_type": "stream",
     "text": [
      "23/11/04 06:09:34 WARN DecisionTreeMetadata: DecisionTree reducing maxBins from 32 to 15 (= number of training instances)\n"
     ]
    },
    {
     "name": "stdout",
     "output_type": "stream",
     "text": [
      "RandomForestRegressor\n",
      "Root mean square error:  0.16763126804089867\n"
     ]
    }
   ],
   "source": [
    "models = [('LinearRegression', LinearRegression(featuresCol = 'features', labelCol = 'label')),\n",
    "          ('RandomForestRegressor', RandomForestRegressor(featuresCol = 'features', labelCol = 'label'))]\n",
    "\n",
    "for model in models:\n",
    "    evaluate_regression_models(climate_data, model)"
   ]
  },
  {
   "cell_type": "markdown",
   "id": "edfd4ce3",
   "metadata": {},
   "source": [
    "#### Hyperparameter tuning"
   ]
  },
  {
   "cell_type": "code",
   "execution_count": 29,
   "id": "d416631b",
   "metadata": {},
   "outputs": [],
   "source": [
    "rf = RandomForestRegressor()\n",
    "paramGrid = ParamGridBuilder().addGrid(rf.numTrees, [10, 15, 20]).addGrid(rf.maxDepth, [5, 10, 15]).build()\n",
    "evaluator = RegressionEvaluator(labelCol = \"label\", predictionCol = \"prediction\", metricName = \"rmse\")"
   ]
  },
  {
   "cell_type": "code",
   "execution_count": 30,
   "id": "69cbfacd",
   "metadata": {},
   "outputs": [
    {
     "name": "stdout",
     "output_type": "stream",
     "text": [
      "+--------------------+-------+\n",
      "|            features|  label|\n",
      "+--------------------+-------+\n",
      "|[1993.0,53.8,1.94...|14.3612|\n",
      "|[1994.0,54.21,1.9...|14.4678|\n",
      "|[1995.0,55.22,1.9...|14.5782|\n",
      "|[1996.0,55.39,2.0...| 14.649|\n",
      "|[1997.0,56.21,1.9...|14.4728|\n",
      "|[1998.0,55.36,1.9...| 14.632|\n",
      "|[1999.0,53.04,2.0...|15.0981|\n",
      "|[2000.0,51.04,2.0...|14.8112|\n",
      "|[2001.0,51.61,2.0...|14.8066|\n",
      "|[2002.0,50.1,2.04...|14.8327|\n",
      "|[2003.0,50.69,2.0...|14.7494|\n",
      "|[2004.0,51.25,2.0...|14.5186|\n",
      "|[2005.0,52.02,2.0...|14.7422|\n",
      "|[2006.0,51.25,2.0...|14.6198|\n",
      "|[2007.0,51.07,2.0...|14.5462|\n",
      "+--------------------+-------+\n",
      "\n",
      "+--------------------+-------+\n",
      "|            features|  label|\n",
      "+--------------------+-------+\n",
      "|[2008.0,49.35,2.0...|14.5632|\n",
      "|[2009.0,47.98,2.0...|14.5427|\n",
      "|[2010.0,47.78,2.0...|14.7388|\n",
      "|[2011.0,45.24,2.0...|14.4536|\n",
      "|[2012.0,43.57,2.0...|14.7561|\n",
      "|[2013.0,43.61,2.0...|14.9975|\n",
      "+--------------------+-------+\n",
      "\n"
     ]
    }
   ],
   "source": [
    "# split time-series dataset into training and test dataset\n",
    "train_data = convertData(climate_data[climate_data.year < 2008])\n",
    "test_data = convertData(climate_data[climate_data.year >= 2008])\n",
    "train_data.show()\n",
    "test_data.show()"
   ]
  },
  {
   "cell_type": "code",
   "execution_count": 31,
   "id": "27f1c12e",
   "metadata": {},
   "outputs": [
    {
     "name": "stderr",
     "output_type": "stream",
     "text": [
      "23/11/04 02:16:08 WARN DecisionTreeMetadata: DecisionTree reducing maxBins from 32 to 13 (= number of training instances)\n",
      "23/11/04 02:16:09 WARN DecisionTreeMetadata: DecisionTree reducing maxBins from 32 to 13 (= number of training instances)\n",
      "23/11/04 02:16:10 WARN DecisionTreeMetadata: DecisionTree reducing maxBins from 32 to 13 (= number of training instances)\n",
      "23/11/04 02:16:11 WARN DecisionTreeMetadata: DecisionTree reducing maxBins from 32 to 13 (= number of training instances)\n",
      "23/11/04 02:16:12 WARN DecisionTreeMetadata: DecisionTree reducing maxBins from 32 to 13 (= number of training instances)\n",
      "23/11/04 02:16:13 WARN DecisionTreeMetadata: DecisionTree reducing maxBins from 32 to 13 (= number of training instances)\n",
      "23/11/04 02:16:14 WARN DecisionTreeMetadata: DecisionTree reducing maxBins from 32 to 13 (= number of training instances)\n",
      "23/11/04 02:16:14 WARN DecisionTreeMetadata: DecisionTree reducing maxBins from 32 to 13 (= number of training instances)\n",
      "23/11/04 02:16:15 WARN DecisionTreeMetadata: DecisionTree reducing maxBins from 32 to 13 (= number of training instances)\n",
      "23/11/04 02:16:16 WARN DecisionTreeMetadata: DecisionTree reducing maxBins from 32 to 7 (= number of training instances)\n",
      "23/11/04 02:16:17 WARN DecisionTreeMetadata: DecisionTree reducing maxBins from 32 to 7 (= number of training instances)\n",
      "23/11/04 02:16:18 WARN DecisionTreeMetadata: DecisionTree reducing maxBins from 32 to 7 (= number of training instances)\n",
      "23/11/04 02:16:18 WARN DecisionTreeMetadata: DecisionTree reducing maxBins from 32 to 7 (= number of training instances)\n",
      "23/11/04 02:16:19 WARN DecisionTreeMetadata: DecisionTree reducing maxBins from 32 to 7 (= number of training instances)\n",
      "23/11/04 02:16:20 WARN DecisionTreeMetadata: DecisionTree reducing maxBins from 32 to 7 (= number of training instances)\n",
      "23/11/04 02:16:21 WARN DecisionTreeMetadata: DecisionTree reducing maxBins from 32 to 7 (= number of training instances)\n",
      "23/11/04 02:16:21 WARN DecisionTreeMetadata: DecisionTree reducing maxBins from 32 to 7 (= number of training instances)\n",
      "23/11/04 02:16:22 WARN DecisionTreeMetadata: DecisionTree reducing maxBins from 32 to 7 (= number of training instances)\n",
      "23/11/04 02:16:23 WARN DecisionTreeMetadata: DecisionTree reducing maxBins from 32 to 10 (= number of training instances)\n",
      "23/11/04 02:16:24 WARN DecisionTreeMetadata: DecisionTree reducing maxBins from 32 to 10 (= number of training instances)\n",
      "23/11/04 02:16:24 WARN DecisionTreeMetadata: DecisionTree reducing maxBins from 32 to 10 (= number of training instances)\n",
      "23/11/04 02:16:25 WARN DecisionTreeMetadata: DecisionTree reducing maxBins from 32 to 10 (= number of training instances)\n",
      "23/11/04 02:16:26 WARN DecisionTreeMetadata: DecisionTree reducing maxBins from 32 to 10 (= number of training instances)\n",
      "23/11/04 02:16:27 WARN DecisionTreeMetadata: DecisionTree reducing maxBins from 32 to 10 (= number of training instances)\n",
      "23/11/04 02:16:27 WARN DecisionTreeMetadata: DecisionTree reducing maxBins from 32 to 10 (= number of training instances)\n",
      "23/11/04 02:16:28 WARN DecisionTreeMetadata: DecisionTree reducing maxBins from 32 to 10 (= number of training instances)\n",
      "23/11/04 02:16:29 WARN DecisionTreeMetadata: DecisionTree reducing maxBins from 32 to 10 (= number of training instances)\n",
      "23/11/04 02:16:30 WARN DecisionTreeMetadata: DecisionTree reducing maxBins from 32 to 15 (= number of training instances)\n"
     ]
    }
   ],
   "source": [
    "validator = CrossValidator(estimator = rf, estimatorParamMaps = paramGrid, evaluator = evaluator, numFolds = 3)\n",
    "validatedModel = validator.fit(train_data)"
   ]
  },
  {
   "cell_type": "code",
   "execution_count": 32,
   "id": "1ed718ac",
   "metadata": {},
   "outputs": [
    {
     "name": "stdout",
     "output_type": "stream",
     "text": [
      "bootstrap: True\n",
      "cacheNodeIds: False\n",
      "checkpointInterval: 10\n",
      "featureSubsetStrategy: auto\n",
      "featuresCol: features\n",
      "impurity: variance\n",
      "labelCol: label\n",
      "leafCol: \n",
      "maxBins: 32\n",
      "maxDepth: 5\n",
      "maxMemoryInMB: 256\n",
      "minInfoGain: 0.0\n",
      "minInstancesPerNode: 1\n",
      "minWeightFractionPerNode: 0.0\n",
      "numTrees: 15\n",
      "predictionCol: prediction\n",
      "seed: 4060880755359481968\n",
      "subsamplingRate: 1.0\n",
      "Root mean Squared Error (RMSE): 0.2152028196841283\n"
     ]
    }
   ],
   "source": [
    "best_model = validatedModel.bestModel\n",
    "\n",
    "best_model_params = best_model.extractParamMap()\n",
    "for param, value in best_model_params.items():\n",
    "    print(f\"{param.name}: {value}\")\n",
    "\n",
    "test_predictions = best_model.transform(test_data)\n",
    "rmse = evaluator.evaluate(test_predictions)\n",
    "print(f\"Root mean Squared Error (RMSE): {rmse}\")"
   ]
  },
  {
   "cell_type": "code",
   "execution_count": 31,
   "id": "639b9977",
   "metadata": {},
   "outputs": [
    {
     "name": "stderr",
     "output_type": "stream",
     "text": [
      "23/11/03 14:27:08 WARN DecisionTreeMetadata: DecisionTree reducing maxBins from 32 to 15 (= number of training instances)\n"
     ]
    },
    {
     "name": "stdout",
     "output_type": "stream",
     "text": [
      "+--------------------+-------+------------------+\n",
      "|            features|  label|        prediction|\n",
      "+--------------------+-------+------------------+\n",
      "|[2008.0,49.35,2.0...|14.5632|          14.74135|\n",
      "|[2009.0,47.98,2.0...|14.5427|14.567240000000002|\n",
      "|[2010.0,47.78,2.0...|14.7388|14.650810000000002|\n",
      "|[2011.0,45.24,2.0...|14.4536|14.838049999999999|\n",
      "|[2012.0,43.57,2.0...|14.7561|14.745929999999996|\n",
      "|[2013.0,43.61,2.0...|14.9975|14.792239999999998|\n",
      "+--------------------+-------+------------------+\n",
      "\n",
      "None\n"
     ]
    }
   ],
   "source": [
    "rf_model = RandomForestRegressor(bootstrap = True, maxDepth = 5, numTrees = 10)\n",
    "train_data = convertData(climate_data[climate_data.year < 2008])\n",
    "test_data = convertData(climate_data[climate_data.year >= 2008])\n",
    "model = rf_model.fit(train_data)\n",
    "prediction = model.transform(test_data)\n",
    "print(prediction.show())"
   ]
  },
  {
   "cell_type": "markdown",
   "id": "3f035d76",
   "metadata": {},
   "source": [
    "### 07-DM"
   ]
  },
  {
   "cell_type": "code",
   "execution_count": 90,
   "id": "b4d66c1c",
   "metadata": {},
   "outputs": [],
   "source": [
    "data = [(2014, 43.66, 0.18, 26.38, 51.2, 12.79, 14.94, None),\n",
    "        (2015, 42.88, 0.14, 25.02, 65.2, 12.75, 14.55, None),\n",
    "        (2016, 40.71, 0.83, 23.11, 46.6, 13.44, 14.79, None),\n",
    "        (2017, 40.88, None, None, None, None, None, None),\n",
    "        (2018, 38.20, None, None, None, None, None, None),\n",
    "        (2019, 35.66, None, None, None, None, None, None),\n",
    "        (2020, 34.60, None, None, None, None, None, None),\n",
    "        (2021, None, None, None, None, None, None, None),\n",
    "        (2022, None, None, None, None, None, None, None),\n",
    "        (2023, None, None, None, None, None, None, None),\n",
    "        (2024, None, None, None, None, None, None, None),\n",
    "        (2025, None, None, None, None, None, None, None),\n",
    "        (2026, None, None, None, None, None, None, None),\n",
    "        (2027, None, None, None, None, None, None, None),\n",
    "        (2028, None, None, None, None, None, None, None),\n",
    "        (2029, None, None, None, None, None, None, None),\n",
    "        (2030, None, None, None, None, None, None, None)]\n",
    "\n",
    "schema = StructType(\n",
    "    [\n",
    "        StructField(\"year\", IntegerType(), nullable = True),\n",
    "        StructField(\"ice_volume\", DoubleType(), nullable = True),\n",
    "        StructField(\"mean_temperature_anomalies\", DoubleType(), nullable = True),\n",
    "        StructField(\"rainfall_intensity_r95ptot\", DoubleType(), nullable = True),\n",
    "        StructField(\"rainfall_intensity_rx1day\", DoubleType(), nullable = True),\n",
    "        StructField(\"temperature\", DoubleType(), nullable = True),\n",
    "        StructField(\"sea_surface_temperature\", DoubleType(), nullable = True),\n",
    "        StructField(\"mean_sea_level_metres\", DoubleType(), nullable = True),\n",
    "    ]\n",
    ")"
   ]
  },
  {
   "cell_type": "code",
   "execution_count": 73,
   "id": "b619ed78",
   "metadata": {},
   "outputs": [],
   "source": [
    "forecast_data = spark.createDataFrame(data, schema = schema)"
   ]
  },
  {
   "cell_type": "code",
   "execution_count": 74,
   "id": "a898d5f6",
   "metadata": {},
   "outputs": [
    {
     "name": "stdout",
     "output_type": "stream",
     "text": [
      "+----+----------+---------------------+--------------------------+-------------------------+-----------+-----------------------+---------------------+\n",
      "|year|ice_volume|temperature_anomalies|rainfall_intensity_r95ptot|rainfall_intensity_rx1day|temperature|sea_surface_temperature|mean_sea_level_metres|\n",
      "+----+----------+---------------------+--------------------------+-------------------------+-----------+-----------------------+---------------------+\n",
      "|1993|      53.8|                -0.77|               25.68454962|                     63.0|      11.84|                14.3612|                1.946|\n",
      "|1994|     54.21|                -0.28|               8.549147973|                     56.0|      12.33|                14.4678|                1.944|\n",
      "|1995|     55.22|                -0.02|               23.35995436|                     59.0|      12.59|                14.5782|                1.997|\n",
      "|1996|     55.39|                -0.16|               26.20614035|                     66.4|      12.45|                 14.649|                2.008|\n",
      "|1997|     56.21|                -0.33|               28.62198168|                     81.0|      12.27|                14.4728|                1.978|\n",
      "|1998|     55.36|                  0.8|               35.39457127|                     71.6|      13.41|                 14.632|                1.987|\n",
      "|1999|     53.04|                 0.74|               33.58778626|                     63.2|      13.35|                15.0981|                2.065|\n",
      "|2000|     51.04|                 0.18|               30.63345754|                     64.4|      12.79|                14.8112|                2.065|\n",
      "|2001|     51.61|                 0.29|               28.94609034|                     57.0|       12.9|                14.8066|                2.088|\n",
      "|2002|      50.1|                 0.06|               20.53121365|                     49.8|      12.67|                14.8327|                2.042|\n",
      "|2003|     50.69|                 0.01|               19.32166697|                     62.8|      12.62|                14.7494|                 2.06|\n",
      "|2004|     51.25|                -0.44|               26.60550459|                     84.8|      12.17|                14.5186|                2.026|\n",
      "|2005|     52.02|                  0.5|               16.98033411|                     35.0|      13.11|                14.7422|                2.048|\n",
      "|2006|     51.25|                -0.21|               21.73673582|                     72.4|       12.4|                14.6198|                2.034|\n",
      "|2007|     51.07|                 0.06|               20.89655172|                     57.6|      12.67|                14.5462|                2.014|\n",
      "|2008|     49.35|                 0.25|               22.43024302|                     57.8|      12.86|                14.5632|                2.054|\n",
      "|2009|     47.98|                -0.32|               13.39597902|                     50.4|      12.29|                14.5427|                2.048|\n",
      "|2010|     47.78|                 0.46|                17.5716118|                     38.8|      13.07|                14.7388|                2.008|\n",
      "|2011|     45.24|                 0.22|               37.82564401|                     72.6|      12.83|                14.4536|                2.069|\n",
      "|2012|     43.57|                -0.15|               23.02504817|                     44.2|      12.45|                14.7561|                 2.06|\n",
      "|2013|     43.61|                 0.72|               25.72154656|                     39.0|      13.33|                14.9975|                2.084|\n",
      "|2014|     43.66|                 0.18|                     26.38|                     51.2|      12.79|                  14.94|                 null|\n",
      "|2015|     42.88|                 0.14|                     25.02|                     65.2|      12.75|                  14.55|                 null|\n",
      "|2016|     40.71|                 0.83|                     23.11|                     46.6|      13.44|                  14.79|                 null|\n",
      "|2017|     40.88|                 null|                      null|                     null|       null|                   null|                 null|\n",
      "|2018|      38.2|                 null|                      null|                     null|       null|                   null|                 null|\n",
      "|2019|     35.66|                 null|                      null|                     null|       null|                   null|                 null|\n",
      "|2020|      34.6|                 null|                      null|                     null|       null|                   null|                 null|\n",
      "|2021|      null|                 null|                      null|                     null|       null|                   null|                 null|\n",
      "|2022|      null|                 null|                      null|                     null|       null|                   null|                 null|\n",
      "|2023|      null|                 null|                      null|                     null|       null|                   null|                 null|\n",
      "|2024|      null|                 null|                      null|                     null|       null|                   null|                 null|\n",
      "|2025|      null|                 null|                      null|                     null|       null|                   null|                 null|\n",
      "|2026|      null|                 null|                      null|                     null|       null|                   null|                 null|\n",
      "|2027|      null|                 null|                      null|                     null|       null|                   null|                 null|\n",
      "|2028|      null|                 null|                      null|                     null|       null|                   null|                 null|\n",
      "|2029|      null|                 null|                      null|                     null|       null|                   null|                 null|\n",
      "|2030|      null|                 null|                      null|                     null|       null|                   null|                 null|\n",
      "+----+----------+---------------------+--------------------------+-------------------------+-----------+-----------------------+---------------------+\n",
      "\n"
     ]
    }
   ],
   "source": [
    "dataset = climate_data.union(forecast_data)\n",
    "dataset.show(50)"
   ]
  },
  {
   "cell_type": "code",
   "execution_count": 75,
   "id": "ad400cd4",
   "metadata": {},
   "outputs": [],
   "source": [
    "def inpute_missing_values(data, feature, label):\n",
    "    # split time-series dataset into training and test dataset\n",
    "    train_data = convertData(data[data.year < 2014].select(feature, label))\n",
    "    test_data = convertData(data[data.year >= 2014].select(feature, label))\n",
    "    \n",
    "    lr = LinearRegression(featuresCol = 'features', labelCol = 'label')\n",
    "    model = lr.fit(train_data)\n",
    "    \n",
    "    prediction = model.transform(test_data)\n",
    "    prediction.show(30)"
   ]
  },
  {
   "cell_type": "code",
   "execution_count": 76,
   "id": "78d3bdec",
   "metadata": {},
   "outputs": [
    {
     "name": "stderr",
     "output_type": "stream",
     "text": [
      "23/11/04 06:35:54 WARN Instrumentation: [389a7b24] regParam is zero, which might cause numerical instability and overfitting.\n",
      "                                                                                \r"
     ]
    },
    {
     "name": "stdout",
     "output_type": "stream",
     "text": [
      "+--------+-----+------------------+\n",
      "|features|label|        prediction|\n",
      "+--------+-----+------------------+\n",
      "|[2014.0]|43.66| 45.00695238103367|\n",
      "|[2015.0]|42.88| 44.46736796545656|\n",
      "|[2016.0]|40.71| 43.92778354987945|\n",
      "|[2017.0]|40.88| 43.38819913430257|\n",
      "|[2018.0]| 38.2| 42.84861471872546|\n",
      "|[2019.0]|35.66|42.309030303148575|\n",
      "|[2020.0]| 34.6|41.769445887571464|\n",
      "|[2021.0]| null| 41.22986147199458|\n",
      "|[2022.0]| null| 40.69027705641747|\n",
      "|[2023.0]| null| 40.15069264084036|\n",
      "|[2024.0]| null| 39.61110822526348|\n",
      "|[2025.0]| null| 39.07152380968637|\n",
      "|[2026.0]| null|38.531939394109486|\n",
      "|[2027.0]| null|37.992354978532376|\n",
      "|[2028.0]| null|37.452770562955266|\n",
      "|[2029.0]| null| 36.91318614737838|\n",
      "|[2030.0]| null| 36.37360173180127|\n",
      "+--------+-----+------------------+\n",
      "\n"
     ]
    }
   ],
   "source": [
    "inpute_missing_values(dataset, 'year', 'ice_volume')"
   ]
  },
  {
   "cell_type": "code",
   "execution_count": 77,
   "id": "a2a4cb78",
   "metadata": {},
   "outputs": [
    {
     "name": "stderr",
     "output_type": "stream",
     "text": [
      "23/11/04 06:36:00 WARN Instrumentation: [c84f3f79] regParam is zero, which might cause numerical instability and overfitting.\n",
      "                                                                                \r"
     ]
    },
    {
     "name": "stdout",
     "output_type": "stream",
     "text": [
      "+--------+-----+-------------------+\n",
      "|features|label|         prediction|\n",
      "+--------+-----+-------------------+\n",
      "|[2014.0]| 0.18|0.30052380952091085|\n",
      "|[2015.0]| 0.14| 0.3208744588713017|\n",
      "|[2016.0]| 0.83| 0.3412251082216855|\n",
      "|[2017.0]| null| 0.3615757575720764|\n",
      "|[2018.0]| null|0.38192640692246016|\n",
      "|[2019.0]| null|0.40227705627284394|\n",
      "|[2020.0]| null| 0.4226277056232348|\n",
      "|[2021.0]| null| 0.4429783549736186|\n",
      "|[2022.0]| null| 0.4633290043240095|\n",
      "|[2023.0]| null|0.48367965367439325|\n",
      "|[2024.0]| null|  0.504030303024777|\n",
      "|[2025.0]| null| 0.5243809523751679|\n",
      "|[2026.0]| null| 0.5447316017255517|\n",
      "|[2027.0]| null| 0.5650822510759426|\n",
      "|[2028.0]| null| 0.5854329004263263|\n",
      "|[2029.0]| null| 0.6057835497767101|\n",
      "|[2030.0]| null|  0.626134199127101|\n",
      "+--------+-----+-------------------+\n",
      "\n"
     ]
    }
   ],
   "source": [
    "inpute_missing_values(dataset, 'year', 'temperature_anomalies')"
   ]
  },
  {
   "cell_type": "code",
   "execution_count": 78,
   "id": "07c4aee0",
   "metadata": {},
   "outputs": [
    {
     "name": "stderr",
     "output_type": "stream",
     "text": [
      "23/11/04 06:36:03 WARN Instrumentation: [07c2c739] regParam is zero, which might cause numerical instability and overfitting.\n",
      "                                                                                \r"
     ]
    },
    {
     "name": "stdout",
     "output_type": "stream",
     "text": [
      "+--------+-----+------------------+\n",
      "|features|label|        prediction|\n",
      "+--------+-----+------------------+\n",
      "|[2014.0]|26.38|23.207610989292164|\n",
      "|[2015.0]|25.02| 23.12247710159579|\n",
      "|[2016.0]|23.11| 23.03734321389942|\n",
      "|[2017.0]| null| 22.95220932620302|\n",
      "|[2018.0]| null|22.867075438506646|\n",
      "|[2019.0]| null|22.781941550810274|\n",
      "|[2020.0]| null|22.696807663113873|\n",
      "|[2021.0]| null|  22.6116737754175|\n",
      "|[2022.0]| null| 22.52653988772113|\n",
      "|[2023.0]| null|22.441406000024728|\n",
      "|[2024.0]| null|22.356272112328355|\n",
      "|[2025.0]| null|22.271138224631983|\n",
      "|[2026.0]| null|22.186004336935582|\n",
      "|[2027.0]| null| 22.10087044923921|\n",
      "|[2028.0]| null|22.015736561542838|\n",
      "|[2029.0]| null|21.930602673846437|\n",
      "|[2030.0]| null|21.845468786150064|\n",
      "+--------+-----+------------------+\n",
      "\n"
     ]
    }
   ],
   "source": [
    "inpute_missing_values(dataset, 'year', 'rainfall_intensity_r95ptot')"
   ]
  },
  {
   "cell_type": "code",
   "execution_count": 79,
   "id": "0c8cf405",
   "metadata": {},
   "outputs": [
    {
     "name": "stderr",
     "output_type": "stream",
     "text": [
      "23/11/04 06:36:07 WARN Instrumentation: [a18e6b95] regParam is zero, which might cause numerical instability and overfitting.\n",
      "                                                                                \r"
     ]
    },
    {
     "name": "stdout",
     "output_type": "stream",
     "text": [
      "+--------+-----+------------------+\n",
      "|features|label|        prediction|\n",
      "+--------+-----+------------------+\n",
      "|[2014.0]| 51.2|49.505714285832255|\n",
      "|[2015.0]| 65.2| 48.60883116896002|\n",
      "|[2016.0]| 46.6|47.711948052087564|\n",
      "|[2017.0]| null| 46.81506493521533|\n",
      "|[2018.0]| null|  45.9181818183431|\n",
      "|[2019.0]| null| 45.02129870147064|\n",
      "|[2020.0]| null| 44.12441558459841|\n",
      "|[2021.0]| null| 43.22753246772595|\n",
      "|[2022.0]| null| 42.33064935085372|\n",
      "|[2023.0]| null| 41.43376623398126|\n",
      "|[2024.0]| null| 40.53688311710903|\n",
      "|[2025.0]| null| 39.64000000023657|\n",
      "|[2026.0]| null| 38.74311688336434|\n",
      "|[2027.0]| null| 37.84623376649188|\n",
      "|[2028.0]| null|36.949350649619646|\n",
      "|[2029.0]| null|36.052467532747414|\n",
      "|[2030.0]| null|35.155584415874955|\n",
      "+--------+-----+------------------+\n",
      "\n"
     ]
    }
   ],
   "source": [
    "inpute_missing_values(dataset, 'year', 'rainfall_intensity_rx1day')"
   ]
  },
  {
   "cell_type": "code",
   "execution_count": 80,
   "id": "75669587",
   "metadata": {},
   "outputs": [
    {
     "name": "stderr",
     "output_type": "stream",
     "text": [
      "23/11/04 06:36:11 WARN Instrumentation: [7eb99f9c] regParam is zero, which might cause numerical instability and overfitting.\n"
     ]
    },
    {
     "name": "stdout",
     "output_type": "stream",
     "text": [
      "+--------+-----+------------------+\n",
      "|features|label|        prediction|\n",
      "+--------+-----+------------------+\n",
      "|[2014.0]|12.79| 12.90914285714139|\n",
      "|[2015.0]|12.75|12.929454545452941|\n",
      "|[2016.0]|13.44|  12.9497662337645|\n",
      "|[2017.0]| null|12.970077922076051|\n",
      "|[2018.0]| null| 12.99038961038761|\n",
      "|[2019.0]| null| 13.01070129869916|\n",
      "|[2020.0]| null|13.031012987010719|\n",
      "|[2021.0]| null| 13.05132467532227|\n",
      "|[2022.0]| null|13.071636363633829|\n",
      "|[2023.0]| null| 13.09194805194538|\n",
      "|[2024.0]| null|13.112259740256938|\n",
      "|[2025.0]| null| 13.13257142856849|\n",
      "|[2026.0]| null|13.152883116880048|\n",
      "|[2027.0]| null|13.173194805191606|\n",
      "|[2028.0]| null|13.193506493503158|\n",
      "|[2029.0]| null|13.213818181814716|\n",
      "|[2030.0]| null|13.234129870126267|\n",
      "+--------+-----+------------------+\n",
      "\n"
     ]
    }
   ],
   "source": [
    "inpute_missing_values(dataset, 'year', 'temperature')"
   ]
  },
  {
   "cell_type": "code",
   "execution_count": 81,
   "id": "020f25a8",
   "metadata": {},
   "outputs": [
    {
     "name": "stderr",
     "output_type": "stream",
     "text": [
      "23/11/04 06:36:15 WARN Instrumentation: [5725d3e7] regParam is zero, which might cause numerical instability and overfitting.\n",
      "                                                                                \r"
     ]
    },
    {
     "name": "stdout",
     "output_type": "stream",
     "text": [
      "+--------+-----+------------------+\n",
      "|features|label|        prediction|\n",
      "+--------+-----+------------------+\n",
      "|[2014.0]|14.94|14.741417142857616|\n",
      "|[2015.0]|14.55|14.748482337662853|\n",
      "|[2016.0]|14.79|14.755547532468091|\n",
      "|[2017.0]| null|14.762612727273329|\n",
      "|[2018.0]| null|14.769677922078568|\n",
      "|[2019.0]| null|14.776743116883805|\n",
      "|[2020.0]| null|14.783808311689043|\n",
      "|[2021.0]| null| 14.79087350649428|\n",
      "|[2022.0]| null|14.797938701299518|\n",
      "|[2023.0]| null|14.805003896104756|\n",
      "|[2024.0]| null|14.812069090909993|\n",
      "|[2025.0]| null|14.819134285715233|\n",
      "|[2026.0]| null| 14.82619948052047|\n",
      "|[2027.0]| null|14.833264675325708|\n",
      "|[2028.0]| null|14.840329870130946|\n",
      "|[2029.0]| null|14.847395064936183|\n",
      "|[2030.0]| null| 14.85446025974142|\n",
      "+--------+-----+------------------+\n",
      "\n"
     ]
    }
   ],
   "source": [
    "inpute_missing_values(dataset, 'year', 'sea_surface_temperature')"
   ]
  },
  {
   "cell_type": "code",
   "execution_count": 102,
   "id": "717fe0bc",
   "metadata": {},
   "outputs": [],
   "source": [
    "future_features = [(2014, 43.66, 0.18, 26.38, 51.20, 12.79, 14.94, 0.0),\n",
    "                   (2015, 42.88, 0.14, 25.02, 65.20, 12.75, 14.55, 0.0),\n",
    "                   (2016, 40.71, 0.83, 23.11, 46.60, 13.44, 14.79, 0.0),\n",
    "                   (2017, 40.88, 0.36, 22.95, 46.82, 12.97, 14.76, 0.0),\n",
    "                   (2018, 38.20, 0.38, 22.86, 45.92, 12.99, 14.77, 0.0),\n",
    "                   (2019, 35.66, 0.40, 22.78, 45.02, 13.01, 14.78, 0.0),\n",
    "                   (2020, 34.60, 0.42, 22.70, 44.12, 13.03, 14.78, 0.0),\n",
    "                   (2021, 41.23, 0.44, 22.61, 43.23, 13.05, 14.79, 0.0),\n",
    "                   (2022, 40.69, 0.46, 22.53, 42.33, 13.07, 14.80, 0.0),\n",
    "                   (2023, 40.15, 0.48, 22.44, 41.43, 13.09, 14.80, 0.0),\n",
    "                   (2024, 39.61, 0.50, 22.36, 40.54, 13.11, 14.81, 0.0),\n",
    "                   (2025, 39.07, 0.52, 22.27, 39.64, 13.13, 14.82, 0.0),\n",
    "                   (2026, 38.53, 0.54, 22.19, 38.74, 13.15, 14.83, 0.0),\n",
    "                   (2027, 37.99, 0.56, 22.10, 37.84, 13.17, 14.83, 0.0),\n",
    "                   (2028, 37.45, 0.58, 22.01, 36.95, 13.19, 14.84, 0.0),\n",
    "                   (2029, 36.91, 0.60, 21.93, 36.05, 13.21, 14.85, 0.0),\n",
    "                   (2030, 36.37, 0.63, 21.85, 35.16, 13.23, 14.85, 0.0)]"
   ]
  },
  {
   "cell_type": "code",
   "execution_count": 103,
   "id": "60e52db4",
   "metadata": {},
   "outputs": [],
   "source": [
    "predicted_data = spark.createDataFrame(future_features, schema = schema)"
   ]
  },
  {
   "cell_type": "code",
   "execution_count": 104,
   "id": "9f3220b4",
   "metadata": {},
   "outputs": [],
   "source": [
    "training_dataset = convertData(climate_data)\n",
    "test_dataset = convertData(predicted_data)"
   ]
  },
  {
   "cell_type": "code",
   "execution_count": 105,
   "id": "cb8c063b",
   "metadata": {},
   "outputs": [
    {
     "name": "stderr",
     "output_type": "stream",
     "text": [
      "23/11/04 06:50:41 WARN DecisionTreeMetadata: DecisionTree reducing maxBins from 32 to 21 (= number of training instances)\n"
     ]
    },
    {
     "name": "stdout",
     "output_type": "stream",
     "text": [
      "+--------------------+-----+------------------+\n",
      "|            features|label|        prediction|\n",
      "+--------------------+-----+------------------+\n",
      "|[2014.0,43.66,0.1...|  0.0|2.0612800000000004|\n",
      "|[2015.0,42.88,0.1...|  0.0|2.0605233333333333|\n",
      "|[2016.0,40.71,0.8...|  0.0|             2.058|\n",
      "|[2017.0,40.88,0.3...|  0.0|             2.058|\n",
      "|[2018.0,38.2,0.38...|  0.0|             2.058|\n",
      "|[2019.0,35.66,0.4...|  0.0|             2.058|\n",
      "|[2020.0,34.6,0.42...|  0.0|             2.058|\n",
      "|[2021.0,41.23,0.4...|  0.0|             2.058|\n",
      "|[2022.0,40.69,0.4...|  0.0|             2.058|\n",
      "|[2023.0,40.15,0.4...|  0.0|2.0599999999999996|\n",
      "|[2024.0,39.61,0.5...|  0.0|2.0599999999999996|\n",
      "|[2025.0,39.07,0.5...|  0.0|2.0599999999999996|\n",
      "|[2026.0,38.53,0.5...|  0.0|            2.0446|\n",
      "|[2027.0,37.99,0.5...|  0.0|            2.0446|\n",
      "|[2028.0,37.45,0.5...|  0.0|           2.03985|\n",
      "|[2029.0,36.91,0.6...|  0.0|           2.03985|\n",
      "|[2030.0,36.37,0.6...|  0.0|           2.03985|\n",
      "+--------------------+-----+------------------+\n",
      "\n",
      "None\n"
     ]
    }
   ],
   "source": [
    "rf_model = RandomForestRegressor(bootstrap = True, maxDepth = 5, numTrees = 10)\n",
    "\n",
    "model = rf_model.fit(training_dataset)\n",
    "prediction = model.transform(test_dataset)\n",
    "print(prediction.show())"
   ]
  },
  {
   "cell_type": "code",
   "execution_count": null,
   "id": "3a8690db",
   "metadata": {},
   "outputs": [],
   "source": []
  }
 ],
 "metadata": {
  "kernelspec": {
   "display_name": "Python 3 (ipykernel)",
   "language": "python",
   "name": "python3"
  },
  "language_info": {
   "codemirror_mode": {
    "name": "ipython",
    "version": 3
   },
   "file_extension": ".py",
   "mimetype": "text/x-python",
   "name": "python",
   "nbconvert_exporter": "python",
   "pygments_lexer": "ipython3",
   "version": "3.10.12"
  }
 },
 "nbformat": 4,
 "nbformat_minor": 5
}
